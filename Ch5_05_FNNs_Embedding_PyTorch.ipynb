{
 "cells": [
  {
   "cell_type": "markdown",
   "metadata": {},
   "source": [
    "# AI Tools for Actuaries\n",
    "## Chapter 5: FNN entity embedding\n",
    "### Authors: Marco Maggi, Michael Mayer and Mario Wuthrich\n",
    "### Version May, 2025"
   ]
  },
  {
   "cell_type": "code",
   "execution_count": 1,
   "metadata": {},
   "outputs": [],
   "source": [
    "import numpy as np\n",
    "import pandas as pd\n",
    "import torch\n",
    "\n",
    "# See all pandas columns\n",
    "pd.set_option(\"display.max_columns\", None)"
   ]
  },
  {
   "cell_type": "markdown",
   "metadata": {},
   "source": [
    "## Load data and split into fixed Learn and Test"
   ]
  },
  {
   "cell_type": "code",
   "execution_count": 2,
   "metadata": {},
   "outputs": [
    {
     "data": {
      "text/html": [
       "<div>\n",
       "<style scoped>\n",
       "    .dataframe tbody tr th:only-of-type {\n",
       "        vertical-align: middle;\n",
       "    }\n",
       "\n",
       "    .dataframe tbody tr th {\n",
       "        vertical-align: top;\n",
       "    }\n",
       "\n",
       "    .dataframe thead th {\n",
       "        text-align: right;\n",
       "    }\n",
       "</style>\n",
       "<table border=\"1\" class=\"dataframe\">\n",
       "  <thead>\n",
       "    <tr style=\"text-align: right;\">\n",
       "      <th></th>\n",
       "      <th>IDpol</th>\n",
       "      <th>Exposure</th>\n",
       "      <th>Area</th>\n",
       "      <th>VehPower</th>\n",
       "      <th>VehAge</th>\n",
       "      <th>DrivAge</th>\n",
       "      <th>BonusMalus</th>\n",
       "      <th>VehBrand</th>\n",
       "      <th>VehGas</th>\n",
       "      <th>Density</th>\n",
       "      <th>Region</th>\n",
       "      <th>ClaimTotal</th>\n",
       "      <th>ClaimNb</th>\n",
       "      <th>LearnTest</th>\n",
       "    </tr>\n",
       "  </thead>\n",
       "  <tbody>\n",
       "    <tr>\n",
       "      <th>0</th>\n",
       "      <td>4156370.0</td>\n",
       "      <td>0.06</td>\n",
       "      <td>D</td>\n",
       "      <td>6</td>\n",
       "      <td>6</td>\n",
       "      <td>20</td>\n",
       "      <td>100</td>\n",
       "      <td>B2</td>\n",
       "      <td>Regular</td>\n",
       "      <td>525</td>\n",
       "      <td>R82</td>\n",
       "      <td>0.0</td>\n",
       "      <td>0.0</td>\n",
       "      <td>L</td>\n",
       "    </tr>\n",
       "    <tr>\n",
       "      <th>1</th>\n",
       "      <td>4006798.0</td>\n",
       "      <td>0.29</td>\n",
       "      <td>E</td>\n",
       "      <td>6</td>\n",
       "      <td>7</td>\n",
       "      <td>29</td>\n",
       "      <td>59</td>\n",
       "      <td>B12</td>\n",
       "      <td>Diesel</td>\n",
       "      <td>2498</td>\n",
       "      <td>R72</td>\n",
       "      <td>0.0</td>\n",
       "      <td>0.0</td>\n",
       "      <td>L</td>\n",
       "    </tr>\n",
       "    <tr>\n",
       "      <th>2</th>\n",
       "      <td>6084964.0</td>\n",
       "      <td>0.46</td>\n",
       "      <td>C</td>\n",
       "      <td>7</td>\n",
       "      <td>10</td>\n",
       "      <td>27</td>\n",
       "      <td>68</td>\n",
       "      <td>B1</td>\n",
       "      <td>Diesel</td>\n",
       "      <td>123</td>\n",
       "      <td>R82</td>\n",
       "      <td>0.0</td>\n",
       "      <td>0.0</td>\n",
       "      <td>L</td>\n",
       "    </tr>\n",
       "    <tr>\n",
       "      <th>3</th>\n",
       "      <td>2228865.0</td>\n",
       "      <td>0.08</td>\n",
       "      <td>D</td>\n",
       "      <td>4</td>\n",
       "      <td>15</td>\n",
       "      <td>34</td>\n",
       "      <td>50</td>\n",
       "      <td>B2</td>\n",
       "      <td>Regular</td>\n",
       "      <td>1109</td>\n",
       "      <td>R24</td>\n",
       "      <td>0.0</td>\n",
       "      <td>0.0</td>\n",
       "      <td>L</td>\n",
       "    </tr>\n",
       "    <tr>\n",
       "      <th>4</th>\n",
       "      <td>4141911.0</td>\n",
       "      <td>1.00</td>\n",
       "      <td>A</td>\n",
       "      <td>5</td>\n",
       "      <td>22</td>\n",
       "      <td>44</td>\n",
       "      <td>50</td>\n",
       "      <td>B3</td>\n",
       "      <td>Diesel</td>\n",
       "      <td>34</td>\n",
       "      <td>R72</td>\n",
       "      <td>0.0</td>\n",
       "      <td>0.0</td>\n",
       "      <td>L</td>\n",
       "    </tr>\n",
       "  </tbody>\n",
       "</table>\n",
       "</div>"
      ],
      "text/plain": [
       "       IDpol  Exposure Area  VehPower  VehAge  DrivAge  BonusMalus VehBrand  \\\n",
       "0  4156370.0      0.06    D         6       6       20         100       B2   \n",
       "1  4006798.0      0.29    E         6       7       29          59      B12   \n",
       "2  6084964.0      0.46    C         7      10       27          68       B1   \n",
       "3  2228865.0      0.08    D         4      15       34          50       B2   \n",
       "4  4141911.0      1.00    A         5      22       44          50       B3   \n",
       "\n",
       "    VehGas  Density Region  ClaimTotal  ClaimNb LearnTest  \n",
       "0  Regular      525    R82         0.0      0.0         L  \n",
       "1   Diesel     2498    R72         0.0      0.0         L  \n",
       "2   Diesel      123    R82         0.0      0.0         L  \n",
       "3  Regular     1109    R24         0.0      0.0         L  \n",
       "4   Diesel       34    R72         0.0      0.0         L  "
      ]
     },
     "execution_count": 2,
     "metadata": {},
     "output_type": "execute_result"
    }
   ],
   "source": [
    "df = pd.read_parquet(\"../../Data/freMTPL2freq.parquet\")\n",
    "df.head()"
   ]
  },
  {
   "cell_type": "code",
   "execution_count": 3,
   "metadata": {},
   "outputs": [],
   "source": [
    "learn = df[df[\"LearnTest\"] == \"L\"]\n",
    "test = df[df[\"LearnTest\"] == \"T\"]"
   ]
  },
  {
   "cell_type": "markdown",
   "metadata": {},
   "source": [
    "## Pre-processing\n",
    "\n",
    "### Define the Scikit-Learn preprocessor"
   ]
  },
  {
   "cell_type": "code",
   "execution_count": 4,
   "metadata": {},
   "outputs": [
    {
     "data": {
      "text/html": [
       "<div>\n",
       "<style scoped>\n",
       "    .dataframe tbody tr th:only-of-type {\n",
       "        vertical-align: middle;\n",
       "    }\n",
       "\n",
       "    .dataframe tbody tr th {\n",
       "        vertical-align: top;\n",
       "    }\n",
       "\n",
       "    .dataframe thead th {\n",
       "        text-align: right;\n",
       "    }\n",
       "</style>\n",
       "<table border=\"1\" class=\"dataframe\">\n",
       "  <thead>\n",
       "    <tr style=\"text-align: right;\">\n",
       "      <th></th>\n",
       "      <th>VehAge</th>\n",
       "      <th>DrivAge</th>\n",
       "      <th>BonusMalus</th>\n",
       "      <th>VehPower</th>\n",
       "      <th>Area</th>\n",
       "      <th>Density</th>\n",
       "      <th>VehGas</th>\n",
       "      <th>VehBrand</th>\n",
       "      <th>Region</th>\n",
       "    </tr>\n",
       "  </thead>\n",
       "  <tbody>\n",
       "    <tr>\n",
       "      <th>610206</th>\n",
       "      <td>-1.29173</td>\n",
       "      <td>-1.309026</td>\n",
       "      <td>1.937902</td>\n",
       "      <td>-1.196789</td>\n",
       "      <td>0.513423</td>\n",
       "      <td>0.298236</td>\n",
       "      <td>0.0</td>\n",
       "      <td>3.0</td>\n",
       "      <td>14.0</td>\n",
       "    </tr>\n",
       "    <tr>\n",
       "      <th>610207</th>\n",
       "      <td>-1.29173</td>\n",
       "      <td>-0.884378</td>\n",
       "      <td>2.578711</td>\n",
       "      <td>-0.709264</td>\n",
       "      <td>0.513423</td>\n",
       "      <td>0.795155</td>\n",
       "      <td>0.0</td>\n",
       "      <td>3.0</td>\n",
       "      <td>0.0</td>\n",
       "    </tr>\n",
       "    <tr>\n",
       "      <th>610208</th>\n",
       "      <td>-1.29173</td>\n",
       "      <td>-0.884378</td>\n",
       "      <td>2.578711</td>\n",
       "      <td>-0.709264</td>\n",
       "      <td>0.513423</td>\n",
       "      <td>0.795155</td>\n",
       "      <td>0.0</td>\n",
       "      <td>3.0</td>\n",
       "      <td>0.0</td>\n",
       "    </tr>\n",
       "    <tr>\n",
       "      <th>610209</th>\n",
       "      <td>-1.29173</td>\n",
       "      <td>1.663510</td>\n",
       "      <td>-0.497176</td>\n",
       "      <td>-0.709264</td>\n",
       "      <td>0.513423</td>\n",
       "      <td>0.666918</td>\n",
       "      <td>0.0</td>\n",
       "      <td>3.0</td>\n",
       "      <td>0.0</td>\n",
       "    </tr>\n",
       "    <tr>\n",
       "      <th>610210</th>\n",
       "      <td>-1.29173</td>\n",
       "      <td>0.460341</td>\n",
       "      <td>-0.625338</td>\n",
       "      <td>-0.709264</td>\n",
       "      <td>-0.209473</td>\n",
       "      <td>-0.476529</td>\n",
       "      <td>0.0</td>\n",
       "      <td>3.0</td>\n",
       "      <td>20.0</td>\n",
       "    </tr>\n",
       "  </tbody>\n",
       "</table>\n",
       "</div>"
      ],
      "text/plain": [
       "         VehAge   DrivAge  BonusMalus  VehPower      Area   Density  VehGas  \\\n",
       "610206 -1.29173 -1.309026    1.937902 -1.196789  0.513423  0.298236     0.0   \n",
       "610207 -1.29173 -0.884378    2.578711 -0.709264  0.513423  0.795155     0.0   \n",
       "610208 -1.29173 -0.884378    2.578711 -0.709264  0.513423  0.795155     0.0   \n",
       "610209 -1.29173  1.663510   -0.497176 -0.709264  0.513423  0.666918     0.0   \n",
       "610210 -1.29173  0.460341   -0.625338 -0.709264 -0.209473 -0.476529     0.0   \n",
       "\n",
       "        VehBrand  Region  \n",
       "610206       3.0    14.0  \n",
       "610207       3.0     0.0  \n",
       "610208       3.0     0.0  \n",
       "610209       3.0     0.0  \n",
       "610210       3.0    20.0  "
      ]
     },
     "execution_count": 4,
     "metadata": {},
     "output_type": "execute_result"
    }
   ],
   "source": [
    "from sklearn.compose import ColumnTransformer\n",
    "from sklearn.pipeline import Pipeline\n",
    "from sklearn.preprocessing import (\n",
    "    FunctionTransformer,\n",
    "    OrdinalEncoder,\n",
    "    StandardScaler,\n",
    ")\n",
    "\n",
    "\n",
    "def clip_and_scale(upper):\n",
    "    pipe = Pipeline(\n",
    "        steps=[\n",
    "            (\"clip\", FunctionTransformer(lambda x: np.clip(x, a_min=0, a_max=upper))),\n",
    "            (\"scale\", StandardScaler()),\n",
    "        ]\n",
    "    )\n",
    "    return pipe\n",
    "\n",
    "\n",
    "density = Pipeline(\n",
    "    steps=[\n",
    "        (\"log\", FunctionTransformer(lambda x: np.log(x).round(2))),\n",
    "        (\"scale\", StandardScaler()),\n",
    "    ]\n",
    ")\n",
    "\n",
    "area = Pipeline(\n",
    "    steps=[\n",
    "        (\"encode\", OrdinalEncoder()),\n",
    "        (\"scale\", StandardScaler()),\n",
    "    ]\n",
    ")\n",
    "\n",
    "preprocessor = ColumnTransformer(\n",
    "    transformers=[\n",
    "        (\n",
    "            \"scale\",\n",
    "            clip_and_scale([20, 90, 150, 15]),\n",
    "            [\"VehAge\", \"DrivAge\", \"BonusMalus\", \"VehPower\"],\n",
    "        ),\n",
    "        (\"area\", area, [\"Area\"]),\n",
    "        (\"density\", density, [\"Density\"]),\n",
    "        (\n",
    "            \"veh_gas\",\n",
    "            FunctionTransformer(lambda x: (x == \"Diesel\").astype(np.float32)),\n",
    "            [\"VehGas\"],\n",
    "        ),\n",
    "        (\"veh_brand\", OrdinalEncoder(), [\"VehBrand\", \"Region\"]),\n",
    "    ],\n",
    "    verbose_feature_names_out=False,\n",
    ")\n",
    "\n",
    "# Just a check: Fit preprocessor to training data and apply to some lines from test\n",
    "preprocessor.set_output(transform=\"pandas\").fit(learn)\n",
    "preprocessor.transform(test.head())"
   ]
  },
  {
   "cell_type": "markdown",
   "metadata": {},
   "source": [
    "### Split in covariates X, responses y, exposures v"
   ]
  },
  {
   "cell_type": "code",
   "execution_count": 5,
   "metadata": {},
   "outputs": [],
   "source": [
    "from sklearn.model_selection import train_test_split\n",
    "\n",
    "convert_to_tensor = lambda x: torch.tensor(x.values, dtype=torch.float32)\n",
    "train, val = train_test_split(learn, test_size=0.1, random_state=125548)\n",
    "\n",
    "X_learn = convert_to_tensor(preprocessor.fit_transform(learn))\n",
    "X_train = convert_to_tensor(preprocessor.transform(train))\n",
    "X_val = convert_to_tensor(preprocessor.transform(val))\n",
    "X_test = convert_to_tensor(preprocessor.transform(test))\n",
    "\n",
    "y_learn, v_learn = convert_to_tensor(learn.ClaimNb), convert_to_tensor(learn.Exposure)\n",
    "y_train, v_train = convert_to_tensor(train.ClaimNb), convert_to_tensor(train.Exposure)\n",
    "y_val, v_val = convert_to_tensor(val.ClaimNb), convert_to_tensor(val.Exposure)\n",
    "y_test, v_test = convert_to_tensor(test.ClaimNb), convert_to_tensor(test.Exposure)"
   ]
  },
  {
   "cell_type": "markdown",
   "metadata": {},
   "source": [
    "## Define FNN"
   ]
  },
  {
   "cell_type": "code",
   "execution_count": 6,
   "metadata": {},
   "outputs": [],
   "source": [
    "from torch import nn\n",
    "from torch.nn import init\n",
    "\n",
    "\n",
    "class FNN(nn.Module):\n",
    "    def __init__(self, seed, n_features, hidden_layers, kk, bb, y0):\n",
    "        super().__init__()\n",
    "        torch.manual_seed(seed)\n",
    "        self.hidden_layers = nn.ModuleList()\n",
    "        self.brand_embed = nn.Embedding(kk[0], bb[0])\n",
    "        self.region_embed = nn.Embedding(kk[1], bb[1])\n",
    "        embed_dim = bb[0] + bb[1]\n",
    "        for i in range(len(hidden_layers)):\n",
    "            if i == 0:\n",
    "                self.hidden_layers.append(\n",
    "                    nn.Linear(n_features - 2 + embed_dim, hidden_layers[i])\n",
    "                )\n",
    "            else:\n",
    "                self.hidden_layers.append(\n",
    "                    nn.Linear(hidden_layers[i - 1], hidden_layers[i])\n",
    "                )\n",
    "        self.output_layer = nn.Linear(hidden_layers[-1], 1)\n",
    "        init.constant_(self.output_layer.weight, 0.0)\n",
    "        init.constant_(self.output_layer.bias, y0)\n",
    "\n",
    "    def forward(self, x, v):\n",
    "        embedded_brand = self.brand_embed(x[:, -2].long())\n",
    "        embedded_region = self.region_embed(x[:, -1].long())\n",
    "        continuous_features = x[:, :-2]\n",
    "        x = torch.cat((continuous_features, embedded_brand, embedded_region), dim=1)\n",
    "        for layer in self.hidden_layers:\n",
    "            x = torch.tanh(layer(x))\n",
    "        return torch.exp(self.output_layer(x)).flatten() * v\n",
    "\n",
    "\n",
    "SEED = 21456783\n",
    "M_FEAT = X_train.shape[1]  # number of features\n",
    "HIDDEN = [20, 15, 10]\n",
    "mu_hom = learn.ClaimNb.sum() / learn.Exposure.sum()  # homogeneous frequency\n",
    "KK = [len(learn.VehBrand.unique()), len(learn.Region.unique())]  # number of categories\n",
    "BB = [2, 2]  # embedding dimensions for brand and region\n",
    "# Create model with three hidden layers\n",
    "model = FNN(\n",
    "    SEED, n_features=M_FEAT, hidden_layers=HIDDEN, kk=KK, bb=BB, y0=np.log(mu_hom)\n",
    ")"
   ]
  },
  {
   "cell_type": "markdown",
   "metadata": {},
   "source": [
    "## Homogeneous case not considering any covariates"
   ]
  },
  {
   "cell_type": "code",
   "execution_count": 7,
   "metadata": {},
   "outputs": [
    {
     "name": "stdout",
     "output_type": "stream",
     "text": [
      "Poisson Deviance (Learn): 47.722\n",
      "Poisson Deviance (Test): 47.967\n"
     ]
    }
   ],
   "source": [
    "from sklearn.metrics import mean_poisson_deviance\n",
    "\n",
    "\n",
    "# Helper functions to evaluate the model via average Poisson deviance\n",
    "def score(model, X, y, v):\n",
    "    \"\"\"Evaluate the model using sklearn's mean_poisson_deviance.\"\"\"\n",
    "    pred = model(X, v).detach().numpy()\n",
    "    return 100 * mean_poisson_deviance(\n",
    "        y.detach().numpy() / v, pred / v, sample_weight=v\n",
    "    )\n",
    "\n",
    "\n",
    "print(f\"Poisson Deviance (Learn): {score(model, X_learn, y_learn, v_learn):.3f}\")\n",
    "print(f\"Poisson Deviance (Test): {score(model, X_test, y_test, v_test):.3f}\")"
   ]
  },
  {
   "cell_type": "markdown",
   "metadata": {},
   "source": [
    "## Train the model"
   ]
  },
  {
   "cell_type": "code",
   "execution_count": 8,
   "metadata": {},
   "outputs": [],
   "source": [
    "def train_model(\n",
    "    model,\n",
    "    X_train,\n",
    "    y_train,\n",
    "    v_train,\n",
    "    X_val,\n",
    "    y_val,\n",
    "    v_val,\n",
    "    optimizer,\n",
    "    checkpoint_path,\n",
    "    batch_size,\n",
    "    n_epochs=100,\n",
    "):\n",
    "    loss_fn = nn.PoissonNLLLoss(log_input=False, reduction=\"sum\")\n",
    "    best_val_loss = float(\"inf\")\n",
    "    history = {\"loss\": [], \"val_loss\": []}\n",
    "\n",
    "    # Create dataset indices for batching\n",
    "    num_batches = (len(X_train) + batch_size - 1) // batch_size\n",
    "\n",
    "    for epoch in range(n_epochs):\n",
    "        # Training phase\n",
    "        model.train()\n",
    "        epoch_loss = 0.0\n",
    "        # indices can be shuffled for each epoch. We don't do it here.\n",
    "        indices = torch.arange(len(X_train))\n",
    "\n",
    "        for i in range(num_batches):\n",
    "            # Get batch indices\n",
    "            batch_indices = indices[\n",
    "                i * batch_size : min((i + 1) * batch_size, len(X_train))\n",
    "            ]\n",
    "\n",
    "            # Get batch data\n",
    "            X_batch = X_train[batch_indices]\n",
    "            v_batch = v_train[batch_indices]\n",
    "            y_batch = y_train[batch_indices]\n",
    "\n",
    "            # Forward pass\n",
    "            pred_batch = model(X_batch, v_batch)\n",
    "            loss = loss_fn(pred_batch, y_batch)\n",
    "\n",
    "            # Backward pass and optimize\n",
    "            optimizer.zero_grad()\n",
    "            loss.backward()\n",
    "            optimizer.step()\n",
    "\n",
    "            epoch_loss += loss.item()\n",
    "\n",
    "        # Average loss for the epoch\n",
    "        epoch_loss /= v_train.sum().item()\n",
    "        history[\"loss\"].append(epoch_loss)\n",
    "\n",
    "        # Validation phase\n",
    "        model.eval()\n",
    "        with torch.no_grad():\n",
    "            pred_val = model(X_val, v_val)\n",
    "            val_loss = (loss_fn(pred_val, y_val) / v_val.sum()).item()\n",
    "            history[\"val_loss\"].append(val_loss)\n",
    "\n",
    "        # Save best model\n",
    "        if val_loss < best_val_loss and isinstance(checkpoint_path, str):\n",
    "            best_val_loss = val_loss\n",
    "            torch.save(model.state_dict(), checkpoint_path)\n",
    "\n",
    "        # Print progress\n",
    "        if (epoch + 1) % 10 == 0:\n",
    "            print(\n",
    "                f\"Epoch {epoch + 1}/{n_epochs}, Loss: {epoch_loss:.4f}, Val Loss: {val_loss:.4f}\"\n",
    "            )\n",
    "    return history"
   ]
  },
  {
   "cell_type": "code",
   "execution_count": 9,
   "metadata": {},
   "outputs": [
    {
     "name": "stdout",
     "output_type": "stream",
     "text": [
      "Epoch 10/200, Loss: 0.2942, Val Loss: 0.2945\n",
      "Epoch 20/200, Loss: 0.2936, Val Loss: 0.2940\n",
      "Epoch 30/200, Loss: 0.2933, Val Loss: 0.2938\n",
      "Epoch 40/200, Loss: 0.2931, Val Loss: 0.2937\n",
      "Epoch 50/200, Loss: 0.2929, Val Loss: 0.2937\n",
      "Epoch 60/200, Loss: 0.2927, Val Loss: 0.2937\n",
      "Epoch 70/200, Loss: 0.2926, Val Loss: 0.2938\n",
      "Epoch 80/200, Loss: 0.2925, Val Loss: 0.2938\n",
      "Epoch 90/200, Loss: 0.2923, Val Loss: 0.2939\n",
      "Epoch 100/200, Loss: 0.2922, Val Loss: 0.2940\n",
      "Epoch 110/200, Loss: 0.2921, Val Loss: 0.2941\n",
      "Epoch 120/200, Loss: 0.2919, Val Loss: 0.2942\n",
      "Epoch 130/200, Loss: 0.2918, Val Loss: 0.2942\n",
      "Epoch 140/200, Loss: 0.2917, Val Loss: 0.2943\n",
      "Epoch 150/200, Loss: 0.2916, Val Loss: 0.2944\n",
      "Epoch 160/200, Loss: 0.2915, Val Loss: 0.2945\n",
      "Epoch 170/200, Loss: 0.2914, Val Loss: 0.2946\n",
      "Epoch 180/200, Loss: 0.2913, Val Loss: 0.2947\n",
      "Epoch 190/200, Loss: 0.2912, Val Loss: 0.2948\n",
      "Epoch 200/200, Loss: 0.2911, Val Loss: 0.2949\n"
     ]
    }
   ],
   "source": [
    "optimizer = torch.optim.NAdam(model.parameters())\n",
    "checkpoint_path = f\"./Networks/FNN2_emb_PyTorch_{SEED}.pt\"\n",
    "history = train_model(\n",
    "    model,\n",
    "    X_train,\n",
    "    y_train,\n",
    "    v_train,\n",
    "    X_val,\n",
    "    y_val,\n",
    "    v_val,\n",
    "    optimizer,\n",
    "    checkpoint_path,\n",
    "    batch_size=5_000,\n",
    "    n_epochs=200,\n",
    ")"
   ]
  },
  {
   "cell_type": "code",
   "execution_count": 10,
   "metadata": {},
   "outputs": [
    {
     "data": {
      "image/png": "[encoded data removed]",
      "text/plain": [
       "<Figure size 640x480 with 1 Axes>"
      ]
     },
     "metadata": {},
     "output_type": "display_data"
    }
   ],
   "source": [
    "# Plot training history (vertical line at best validation loss)\n",
    "fig = (\n",
    "    pd.DataFrame({\"loss\": history[\"loss\"], \"val_loss\": history[\"val_loss\"]})\n",
    "    .rename(columns={\"loss\": \"Training\", \"val_loss\": \"Validation\"})\n",
    "    .plot(xlabel=\"Epoch - 1\", ylabel=\"Loss\", title=\"Loss During Training\", grid=True)\n",
    ")\n",
    "_ = fig.axvline(np.argmin(history[\"val_loss\"]), color=\"black\", linestyle=\"--\")\n"
   ]
  },
  {
   "cell_type": "markdown",
   "metadata": {},
   "source": [
    "## Evaluate Results"
   ]
  },
  {
   "cell_type": "code",
   "execution_count": 11,
   "metadata": {},
   "outputs": [
    {
     "name": "stdout",
     "output_type": "stream",
     "text": [
      "Poisson Deviance (Learn): 44.973\n",
      "Poisson Deviance (Test): 44.928\n",
      "Balance Property: 0.0736 0.0739\n"
     ]
    }
   ],
   "source": [
    "# Load best weights and evaluate\n",
    "model.load_state_dict(torch.load(checkpoint_path))\n",
    "\n",
    "print(f\"Poisson Deviance (Learn): {score(model, X_learn, y_learn, v_learn):.3f}\")\n",
    "print(f\"Poisson Deviance (Test): {score(model, X_test, y_test, v_test):.3f}\")\n",
    "\n",
    "model.eval()  # Set model to evaluation mode\n",
    "with torch.no_grad():\n",
    "    learn_nn = model(X_learn, v_learn).detach().numpy()\n",
    "\n",
    "print(f\"Balance Property: {mu_hom:.4f} {learn_nn.sum() / learn['Exposure'].sum():.4f}\")"
   ]
  },
  {
   "cell_type": "markdown",
   "metadata": {},
   "source": [
    "## Balance Property Adjustment"
   ]
  },
  {
   "cell_type": "code",
   "execution_count": 12,
   "metadata": {},
   "outputs": [],
   "source": [
    "# \"Freeze\" all parameters of the hidden and embedding layers\n",
    "[el.weight.requires_grad_(requires_grad=False) for el in model.hidden_layers]\n",
    "[el.bias.requires_grad_(requires_grad=False) for el in model.hidden_layers]\n",
    "model.brand_embed.weight.requires_grad_(requires_grad=False)\n",
    "model.region_embed.weight.requires_grad_(requires_grad=False);"
   ]
  },
  {
   "cell_type": "code",
   "execution_count": 13,
   "metadata": {},
   "outputs": [
    {
     "name": "stdout",
     "output_type": "stream",
     "text": [
      "Epoch 10/50, Loss: 0.2927, Val Loss: 0.2937\n",
      "Epoch 20/50, Loss: 0.2926, Val Loss: 0.2937\n",
      "Epoch 30/50, Loss: 0.2926, Val Loss: 0.2937\n",
      "Epoch 40/50, Loss: 0.2926, Val Loss: 0.2937\n",
      "Epoch 50/50, Loss: 0.2926, Val Loss: 0.2938\n"
     ]
    },
    {
     "data": {
      "image/png": "[encoded data removed]",
      "text/plain": [
       "<Figure size 640x480 with 1 Axes>"
      ]
     },
     "metadata": {},
     "output_type": "display_data"
    }
   ],
   "source": [
    "# we don't do batch training anymore, so we set batch_size to the size of the training\n",
    "# set\n",
    "batch_size = len(y_train)\n",
    "optimizer = torch.optim.NAdam(model.parameters(), lr=0.0023)\n",
    "\n",
    "history = train_model(\n",
    "    model,\n",
    "    X_train,\n",
    "    y_train,\n",
    "    v_train,\n",
    "    X_val,\n",
    "    y_val,\n",
    "    v_val,\n",
    "    optimizer,\n",
    "    checkpoint_path=None,\n",
    "    batch_size=batch_size,\n",
    "    n_epochs=50,\n",
    ")\n",
    "_ = pd.DataFrame(history[\"loss\"]).plot(\n",
    "    xlabel=\"Epoch - 1\",\n",
    "    ylabel=\"Loss\",\n",
    "    title=\"Model Loss During Training\",\n",
    "    grid=True,\n",
    "    legend=False,\n",
    "    # ylim=(0, 0.2),\n",
    ")"
   ]
  },
  {
   "cell_type": "code",
   "execution_count": 14,
   "metadata": {},
   "outputs": [
    {
     "name": "stdout",
     "output_type": "stream",
     "text": [
      "Poisson Deviance (Learn): 44.970\n",
      "Poisson Deviance (Test): 44.915\n",
      "Balance Property: 0.0736 0.0736\n"
     ]
    }
   ],
   "source": [
    "print(f\"Poisson Deviance (Learn): {score(model, X_learn, y_learn, v_learn):.3f}\")\n",
    "print(f\"Poisson Deviance (Test): {score(model, X_test, y_test, v_test):.3f}\")\n",
    "\n",
    "model.eval()  # Set model to evaluation mode\n",
    "with torch.no_grad():\n",
    "    learn_nn_reg = model(X_learn, v_learn).detach().numpy()\n",
    "\n",
    "print(\n",
    "    f\"Balance Property: {mu_hom:.4f} {learn_nn_reg.sum() / learn['Exposure'].sum():.4f}\"\n",
    ")"
   ]
  },
  {
   "cell_type": "markdown",
   "metadata": {},
   "source": [
    "## Visualize Embeddings"
   ]
  },
  {
   "cell_type": "code",
   "execution_count": 15,
   "metadata": {},
   "outputs": [
    {
     "data": {
      "image/png": "[encoded data removed]",
      "text/plain": [
       "<Figure size 1000x800 with 1 Axes>"
      ]
     },
     "metadata": {},
     "output_type": "display_data"
    }
   ],
   "source": [
    "# Embeddings visualization\n",
    "import matplotlib.pyplot as plt\n",
    "\n",
    "# Extract embeddings\n",
    "veh_br = model.brand_embed.weight.detach().numpy()\n",
    "\n",
    "# Get unique vehicle brands and their indices\n",
    "vb_names = learn.loc[~learn[\"VehBrand\"].duplicated(), [\"VehBrand\"]]\n",
    "vb_names = vb_names.sort_values(\"VehBrand\")\n",
    "\n",
    "# Calculate plot limits\n",
    "lim0 = 1.1 * np.array([veh_br.min(), veh_br.max()])\n",
    "\n",
    "# Create the plot\n",
    "plt.figure(figsize=(10, 8))\n",
    "plt.scatter(veh_br[:, 0], veh_br[:, 1], alpha=0)  # invisible points to set the scale\n",
    "plt.xlim(lim0)\n",
    "plt.ylim(lim0)\n",
    "\n",
    "# Add text labels for each brand\n",
    "for i, brand in enumerate(vb_names[\"VehBrand\"]):\n",
    "    plt.annotate(brand, (veh_br[i, 0], veh_br[i, 1]), color=\"darkgreen\", fontsize=12)\n",
    "\n",
    "plt.xlabel(\"Embedding dim 1\")\n",
    "plt.ylabel(\"Embedding dim 2\")\n",
    "plt.title(\"2D Embeddings of Vehicle Brands\")\n",
    "plt.grid(True)\n",
    "plt.show()"
   ]
  },
  {
   "cell_type": "code",
   "execution_count": 16,
   "metadata": {},
   "outputs": [
    {
     "data": {
      "image/png": "[encoded data removed]",
      "text/plain": [
       "<Figure size 1000x800 with 1 Axes>"
      ]
     },
     "metadata": {},
     "output_type": "display_data"
    }
   ],
   "source": [
    "# Extract embeddings for regions\n",
    "region_br = model.region_embed.weight.detach().numpy()\n",
    "\n",
    "# Get unique regions and their indices\n",
    "region_names = learn.loc[~learn[\"Region\"].duplicated(), [\"Region\"]]\n",
    "region_names = region_names.sort_values(\"Region\")\n",
    "\n",
    "# Calculate plot limits\n",
    "lim0 = 1.1 * np.array([region_br.min(), region_br.max()])\n",
    "\n",
    "# Create the plot\n",
    "plt.figure(figsize=(10, 8))\n",
    "plt.scatter(\n",
    "    region_br[:, 0], region_br[:, 1], alpha=0\n",
    ")  # invisible points to set the scale\n",
    "plt.xlim(lim0)\n",
    "plt.ylim(lim0)\n",
    "\n",
    "# Add text labels for each region\n",
    "for i, region in enumerate(region_names[\"Region\"]):\n",
    "    plt.annotate(region, (region_br[i, 0], region_br[i, 1]), color=\"blue\", fontsize=12)\n",
    "\n",
    "plt.xlabel(\"Embedding dim 1\")\n",
    "plt.ylabel(\"Embedding dim 2\")\n",
    "plt.title(\"2D Embeddings of Regions\")\n",
    "plt.grid()\n",
    "plt.show()"
   ]
  },
  {
   "cell_type": "code",
   "execution_count": null,
   "metadata": {},
   "outputs": [],
   "source": []
  }
 ],
 "metadata": {
  "kernelspec": {
   "display_name": "my_env",
   "language": "python",
   "name": "python3"
  },
  "language_info": {
   "codemirror_mode": {
    "name": "ipython",
    "version": 3
   },
   "file_extension": ".py",
   "mimetype": "text/x-python",
   "name": "python",
   "nbconvert_exporter": "python",
   "pygments_lexer": "ipython3",
   "version": "3.10.16"
  }
 },
 "nbformat": 4,
 "nbformat_minor": 4
}
