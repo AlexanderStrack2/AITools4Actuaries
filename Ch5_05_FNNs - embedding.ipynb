{
 "cells": [
  {
   "cell_type": "markdown",
   "metadata": {},
   "source": [
    "# AI Tools for Actuaries\n",
    "## Chapter 5: FNN entity embedding\n",
    "### Author: Michael Mayer and Mario Wuthrich\n",
    "### Version April, 2025"
   ]
  },
  {
   "cell_type": "code",
   "execution_count": 1,
   "metadata": {},
   "outputs": [],
   "source": [
    "import os\n",
    "\n",
    "import numpy as np\n",
    "import pandas as pd\n",
    "import tensorflow as tf  \n",
    "from tensorflow import keras\n",
    "\n",
    "# See all pandas columns\n",
    "pd.set_option(\"display.max_columns\", None)\n",
    "\n",
    "# Helps to keep results reproducible\n",
    "tf.config.experimental.enable_op_determinism()"
   ]
  },
  {
   "cell_type": "markdown",
   "metadata": {},
   "source": [
    "## Load data and build Learn-Test split"
   ]
  },
  {
   "cell_type": "code",
   "execution_count": 2,
   "metadata": {},
   "outputs": [
    {
     "data": {
      "text/html": [
       "<div>\n",
       "<style scoped>\n",
       "    .dataframe tbody tr th:only-of-type {\n",
       "        vertical-align: middle;\n",
       "    }\n",
       "\n",
       "    .dataframe tbody tr th {\n",
       "        vertical-align: top;\n",
       "    }\n",
       "\n",
       "    .dataframe thead th {\n",
       "        text-align: right;\n",
       "    }\n",
       "</style>\n",
       "<table border=\"1\" class=\"dataframe\">\n",
       "  <thead>\n",
       "    <tr style=\"text-align: right;\">\n",
       "      <th></th>\n",
       "      <th>IDpol</th>\n",
       "      <th>Exposure</th>\n",
       "      <th>Area</th>\n",
       "      <th>VehPower</th>\n",
       "      <th>VehAge</th>\n",
       "      <th>DrivAge</th>\n",
       "      <th>BonusMalus</th>\n",
       "      <th>VehBrand</th>\n",
       "      <th>VehGas</th>\n",
       "      <th>Density</th>\n",
       "      <th>Region</th>\n",
       "      <th>ClaimTotal</th>\n",
       "      <th>ClaimNb</th>\n",
       "      <th>LearnTest</th>\n",
       "    </tr>\n",
       "  </thead>\n",
       "  <tbody>\n",
       "    <tr>\n",
       "      <th>0</th>\n",
       "      <td>4156370.0</td>\n",
       "      <td>0.06</td>\n",
       "      <td>D</td>\n",
       "      <td>6</td>\n",
       "      <td>6</td>\n",
       "      <td>20</td>\n",
       "      <td>100</td>\n",
       "      <td>B2</td>\n",
       "      <td>Regular</td>\n",
       "      <td>525</td>\n",
       "      <td>R82</td>\n",
       "      <td>0.0</td>\n",
       "      <td>0.0</td>\n",
       "      <td>L</td>\n",
       "    </tr>\n",
       "    <tr>\n",
       "      <th>1</th>\n",
       "      <td>4006798.0</td>\n",
       "      <td>0.29</td>\n",
       "      <td>E</td>\n",
       "      <td>6</td>\n",
       "      <td>7</td>\n",
       "      <td>29</td>\n",
       "      <td>59</td>\n",
       "      <td>B12</td>\n",
       "      <td>Diesel</td>\n",
       "      <td>2498</td>\n",
       "      <td>R72</td>\n",
       "      <td>0.0</td>\n",
       "      <td>0.0</td>\n",
       "      <td>L</td>\n",
       "    </tr>\n",
       "    <tr>\n",
       "      <th>2</th>\n",
       "      <td>6084964.0</td>\n",
       "      <td>0.46</td>\n",
       "      <td>C</td>\n",
       "      <td>7</td>\n",
       "      <td>10</td>\n",
       "      <td>27</td>\n",
       "      <td>68</td>\n",
       "      <td>B1</td>\n",
       "      <td>Diesel</td>\n",
       "      <td>123</td>\n",
       "      <td>R82</td>\n",
       "      <td>0.0</td>\n",
       "      <td>0.0</td>\n",
       "      <td>L</td>\n",
       "    </tr>\n",
       "    <tr>\n",
       "      <th>3</th>\n",
       "      <td>2228865.0</td>\n",
       "      <td>0.08</td>\n",
       "      <td>D</td>\n",
       "      <td>4</td>\n",
       "      <td>15</td>\n",
       "      <td>34</td>\n",
       "      <td>50</td>\n",
       "      <td>B2</td>\n",
       "      <td>Regular</td>\n",
       "      <td>1109</td>\n",
       "      <td>R24</td>\n",
       "      <td>0.0</td>\n",
       "      <td>0.0</td>\n",
       "      <td>L</td>\n",
       "    </tr>\n",
       "    <tr>\n",
       "      <th>4</th>\n",
       "      <td>4141911.0</td>\n",
       "      <td>1.00</td>\n",
       "      <td>A</td>\n",
       "      <td>5</td>\n",
       "      <td>22</td>\n",
       "      <td>44</td>\n",
       "      <td>50</td>\n",
       "      <td>B3</td>\n",
       "      <td>Diesel</td>\n",
       "      <td>34</td>\n",
       "      <td>R72</td>\n",
       "      <td>0.0</td>\n",
       "      <td>0.0</td>\n",
       "      <td>L</td>\n",
       "    </tr>\n",
       "  </tbody>\n",
       "</table>\n",
       "</div>"
      ],
      "text/plain": [
       "       IDpol  Exposure Area  VehPower  VehAge  DrivAge  BonusMalus VehBrand  \\\n",
       "0  4156370.0      0.06    D         6       6       20         100       B2   \n",
       "1  4006798.0      0.29    E         6       7       29          59      B12   \n",
       "2  6084964.0      0.46    C         7      10       27          68       B1   \n",
       "3  2228865.0      0.08    D         4      15       34          50       B2   \n",
       "4  4141911.0      1.00    A         5      22       44          50       B3   \n",
       "\n",
       "    VehGas  Density Region  ClaimTotal  ClaimNb LearnTest  \n",
       "0  Regular      525    R82         0.0      0.0         L  \n",
       "1   Diesel     2498    R72         0.0      0.0         L  \n",
       "2   Diesel      123    R82         0.0      0.0         L  \n",
       "3  Regular     1109    R24         0.0      0.0         L  \n",
       "4   Diesel       34    R72         0.0      0.0         L  "
      ]
     },
     "execution_count": 2,
     "metadata": {},
     "output_type": "execute_result"
    }
   ],
   "source": [
    "df = pd.read_parquet(\"../../Data/freMTPL2freq.parquet\")\n",
    "df.head()"
   ]
  },
  {
   "cell_type": "code",
   "execution_count": 3,
   "metadata": {},
   "outputs": [
    {
     "name": "stdout",
     "output_type": "stream",
     "text": [
      "<class 'pandas.core.frame.DataFrame'>\n",
      "RangeIndex: 678007 entries, 0 to 678006\n",
      "Data columns (total 14 columns):\n",
      " #   Column      Non-Null Count   Dtype   \n",
      "---  ------      --------------   -----   \n",
      " 0   IDpol       678007 non-null  float64 \n",
      " 1   Exposure    678007 non-null  float64 \n",
      " 2   Area        678007 non-null  category\n",
      " 3   VehPower    678007 non-null  int32   \n",
      " 4   VehAge      678007 non-null  int32   \n",
      " 5   DrivAge     678007 non-null  int32   \n",
      " 6   BonusMalus  678007 non-null  int32   \n",
      " 7   VehBrand    678007 non-null  category\n",
      " 8   VehGas      678007 non-null  category\n",
      " 9   Density     678007 non-null  int32   \n",
      " 10  Region      678007 non-null  category\n",
      " 11  ClaimTotal  678007 non-null  float64 \n",
      " 12  ClaimNb     678007 non-null  float64 \n",
      " 13  LearnTest   678007 non-null  object  \n",
      "dtypes: category(4), float64(4), int32(5), object(1)\n",
      "memory usage: 41.4+ MB\n",
      "None\n"
     ]
    }
   ],
   "source": [
    "print(df.info())"
   ]
  },
  {
   "cell_type": "code",
   "execution_count": 4,
   "metadata": {},
   "outputs": [],
   "source": [
    "learn = df[df[\"LearnTest\"] == \"L\"]\n",
    "test = df[df[\"LearnTest\"] == \"T\"]"
   ]
  },
  {
   "cell_type": "markdown",
   "metadata": {},
   "source": [
    "## Pre-process data for FNN - for entity embedding and standardization\n",
    "### Define the Scikit-Learn preprocessor"
   ]
  },
  {
   "cell_type": "code",
   "execution_count": 5,
   "metadata": {},
   "outputs": [
    {
     "data": {
      "text/html": [
       "<div>\n",
       "<style scoped>\n",
       "    .dataframe tbody tr th:only-of-type {\n",
       "        vertical-align: middle;\n",
       "    }\n",
       "\n",
       "    .dataframe tbody tr th {\n",
       "        vertical-align: top;\n",
       "    }\n",
       "\n",
       "    .dataframe thead th {\n",
       "        text-align: right;\n",
       "    }\n",
       "</style>\n",
       "<table border=\"1\" class=\"dataframe\">\n",
       "  <thead>\n",
       "    <tr style=\"text-align: right;\">\n",
       "      <th></th>\n",
       "      <th>VehAge</th>\n",
       "      <th>DrivAge</th>\n",
       "      <th>BonusMalus</th>\n",
       "      <th>VehPower</th>\n",
       "      <th>Area</th>\n",
       "      <th>Density</th>\n",
       "      <th>VehGas</th>\n",
       "      <th>VehBrand</th>\n",
       "      <th>Region</th>\n",
       "    </tr>\n",
       "  </thead>\n",
       "  <tbody>\n",
       "    <tr>\n",
       "      <th>610206</th>\n",
       "      <td>-1.29173</td>\n",
       "      <td>-1.309026</td>\n",
       "      <td>1.937902</td>\n",
       "      <td>-1.196789</td>\n",
       "      <td>0.513423</td>\n",
       "      <td>0.298236</td>\n",
       "      <td>False</td>\n",
       "      <td>3.0</td>\n",
       "      <td>14.0</td>\n",
       "    </tr>\n",
       "    <tr>\n",
       "      <th>610207</th>\n",
       "      <td>-1.29173</td>\n",
       "      <td>-0.884378</td>\n",
       "      <td>2.578711</td>\n",
       "      <td>-0.709264</td>\n",
       "      <td>0.513423</td>\n",
       "      <td>0.795155</td>\n",
       "      <td>False</td>\n",
       "      <td>3.0</td>\n",
       "      <td>0.0</td>\n",
       "    </tr>\n",
       "    <tr>\n",
       "      <th>610208</th>\n",
       "      <td>-1.29173</td>\n",
       "      <td>-0.884378</td>\n",
       "      <td>2.578711</td>\n",
       "      <td>-0.709264</td>\n",
       "      <td>0.513423</td>\n",
       "      <td>0.795155</td>\n",
       "      <td>False</td>\n",
       "      <td>3.0</td>\n",
       "      <td>0.0</td>\n",
       "    </tr>\n",
       "    <tr>\n",
       "      <th>610209</th>\n",
       "      <td>-1.29173</td>\n",
       "      <td>1.663510</td>\n",
       "      <td>-0.497176</td>\n",
       "      <td>-0.709264</td>\n",
       "      <td>0.513423</td>\n",
       "      <td>0.666918</td>\n",
       "      <td>False</td>\n",
       "      <td>3.0</td>\n",
       "      <td>0.0</td>\n",
       "    </tr>\n",
       "    <tr>\n",
       "      <th>610210</th>\n",
       "      <td>-1.29173</td>\n",
       "      <td>0.460341</td>\n",
       "      <td>-0.625338</td>\n",
       "      <td>-0.709264</td>\n",
       "      <td>-0.209473</td>\n",
       "      <td>-0.476529</td>\n",
       "      <td>False</td>\n",
       "      <td>3.0</td>\n",
       "      <td>20.0</td>\n",
       "    </tr>\n",
       "  </tbody>\n",
       "</table>\n",
       "</div>"
      ],
      "text/plain": [
       "         VehAge   DrivAge  BonusMalus  VehPower      Area   Density  VehGas  \\\n",
       "610206 -1.29173 -1.309026    1.937902 -1.196789  0.513423  0.298236   False   \n",
       "610207 -1.29173 -0.884378    2.578711 -0.709264  0.513423  0.795155   False   \n",
       "610208 -1.29173 -0.884378    2.578711 -0.709264  0.513423  0.795155   False   \n",
       "610209 -1.29173  1.663510   -0.497176 -0.709264  0.513423  0.666918   False   \n",
       "610210 -1.29173  0.460341   -0.625338 -0.709264 -0.209473 -0.476529   False   \n",
       "\n",
       "        VehBrand  Region  \n",
       "610206       3.0    14.0  \n",
       "610207       3.0     0.0  \n",
       "610208       3.0     0.0  \n",
       "610209       3.0     0.0  \n",
       "610210       3.0    20.0  "
      ]
     },
     "execution_count": 5,
     "metadata": {},
     "output_type": "execute_result"
    }
   ],
   "source": [
    "from sklearn.compose import ColumnTransformer\n",
    "from sklearn.pipeline import Pipeline\n",
    "from sklearn.preprocessing import (\n",
    "    FunctionTransformer,\n",
    "    OrdinalEncoder,\n",
    "    StandardScaler,\n",
    ")\n",
    "\n",
    "\n",
    "def clip_and_scale(upper):\n",
    "    pipe = Pipeline(\n",
    "        steps=[\n",
    "            (\"clip\", FunctionTransformer(lambda x: np.clip(x, a_min=0, a_max=upper))),\n",
    "            (\"scale\", StandardScaler()),\n",
    "        ]\n",
    "    )\n",
    "    return pipe\n",
    "\n",
    "\n",
    "density = Pipeline(\n",
    "    steps=[\n",
    "        (\"log\", FunctionTransformer(lambda x: np.log(x).round(2))),\n",
    "        (\"scale\", StandardScaler()),\n",
    "    ]\n",
    ")\n",
    "\n",
    "area = Pipeline(\n",
    "    steps=[\n",
    "        (\"encode\", OrdinalEncoder()),\n",
    "        (\"scale\", StandardScaler()),\n",
    "    ]\n",
    ")\n",
    "\n",
    "preprocessor = ColumnTransformer(\n",
    "    transformers=[\n",
    "        (\n",
    "            \"scale\",\n",
    "            clip_and_scale([20, 90, 150, 15]),\n",
    "            [\"VehAge\", \"DrivAge\", \"BonusMalus\", \"VehPower\"],\n",
    "        ),\n",
    "        (\"area\", area, [\"Area\"]),\n",
    "        (\"density\", density, [\"Density\"]),\n",
    "        (\"veh_gas\", FunctionTransformer(lambda x: x == \"Diesel\"), [\"VehGas\"]),\n",
    "        (\"veh_brand\", OrdinalEncoder(), [\"VehBrand\", \"Region\"]),\n",
    "    ],\n",
    "    verbose_feature_names_out=False,\n",
    ")\n",
    "\n",
    "# Just a check: Fit preprocessor to training data and apply to some lines from test\n",
    "preprocessor.set_output(transform=\"pandas\").fit(learn)\n",
    "preprocessor.transform(test.head())"
   ]
  },
  {
   "cell_type": "markdown",
   "metadata": {},
   "source": [
    "### Split in covariates X, responses y, exposures v\n"
   ]
  },
  {
   "cell_type": "code",
   "execution_count": 6,
   "metadata": {},
   "outputs": [],
   "source": [
    "X_learn = preprocessor.fit_transform(learn)\n",
    "X_test = preprocessor.transform(test)\n",
    "\n",
    "y_learn, v_learn = learn.ClaimNb, learn.Exposure\n",
    "y_test, v_test = test.ClaimNb, test.Exposure"
   ]
  },
  {
   "cell_type": "markdown",
   "metadata": {},
   "source": [
    "## FNN entity embedding encoded categorical features"
   ]
  },
  {
   "cell_type": "code",
   "execution_count": 7,
   "metadata": {},
   "outputs": [],
   "source": [
    "# define FNN with entity embedding and three hidden layers\n",
    "def create_fnn(seed, n_features, hidden_layers, kk, bb, freeze_hidden=False):\n",
    "    tf.keras.backend.clear_session()\n",
    "    tf.keras.utils.set_random_seed(seed)\n",
    "\n",
    "    design_input = keras.layers.Input(shape=(n_features,))\n",
    "    volume_input = keras.layers.Input(shape=(1,))\n",
    "    \n",
    "    # Extract brand and region features (last two columns)\n",
    "    brand_input = keras.layers.Lambda(lambda x: x[:, -2:-1])(design_input)\n",
    "    region_input = keras.layers.Lambda(lambda x: x[:, -1:])(design_input)\n",
    "    \n",
    "    # Embedding layers\n",
    "    brand_embed = keras.layers.Embedding(input_dim=kk[0], output_dim=bb[0], input_length=1, trainable=not freeze_hidden)(brand_input)\n",
    "    brand_embed = keras.layers.Flatten()(brand_embed)\n",
    "    \n",
    "    region_embed = keras.layers.Embedding(input_dim=kk[1], output_dim=bb[1], input_length=1, trainable=not freeze_hidden)(region_input)\n",
    "    region_embed = keras.layers.Flatten()(region_embed)\n",
    "    \n",
    "    # Continuous features (all except last two columns)\n",
    "    continuous_features = keras.layers.Lambda(lambda x: x[:, :-2])(design_input)\n",
    "    \n",
    "    # Concatenate all features\n",
    "    x = keras.layers.Concatenate()([continuous_features, brand_embed, region_embed])\n",
    "    \n",
    "    # build the network\n",
    "    for q in hidden_layers:\n",
    "        x = keras.layers.Dense(q, activation=\"tanh\", trainable=not freeze_hidden)(x)\n",
    "    x = keras.layers.Dense(1, activation=\"exponential\")(x)\n",
    "\n",
    "    output = keras.layers.Multiply()([x, volume_input])\n",
    "\n",
    "    model = keras.Model(inputs=[design_input, volume_input], outputs=output)\n",
    "\n",
    "    return model\n"
   ]
  },
  {
   "cell_type": "code",
   "execution_count": 9,
   "metadata": {},
   "outputs": [
    {
     "data": {
      "text/html": [
       "<pre style=\"white-space:pre;overflow-x:auto;line-height:normal;font-family:Menlo,'DejaVu Sans Mono',consolas,'Courier New',monospace\"><span style=\"font-weight: bold\">Model: \"functional\"</span>\n",
       "</pre>\n"
      ],
      "text/plain": [
       "\u001b[1mModel: \"functional\"\u001b[0m\n"
      ]
     },
     "metadata": {},
     "output_type": "display_data"
    },
    {
     "data": {
      "text/html": [
       "<pre style=\"white-space:pre;overflow-x:auto;line-height:normal;font-family:Menlo,'DejaVu Sans Mono',consolas,'Courier New',monospace\">┏━━━━━━━━━━━━━━━━━━━━━┳━━━━━━━━━━━━━━━━━━━┳━━━━━━━━━━━━┳━━━━━━━━━━━━━━━━━━━┓\n",
       "┃<span style=\"font-weight: bold\"> Layer (type)        </span>┃<span style=\"font-weight: bold\"> Output Shape      </span>┃<span style=\"font-weight: bold\">    Param # </span>┃<span style=\"font-weight: bold\"> Connected to      </span>┃\n",
       "┡━━━━━━━━━━━━━━━━━━━━━╇━━━━━━━━━━━━━━━━━━━╇━━━━━━━━━━━━╇━━━━━━━━━━━━━━━━━━━┩\n",
       "│ input_layer         │ (<span style=\"color: #00d7ff; text-decoration-color: #00d7ff\">None</span>, <span style=\"color: #00af00; text-decoration-color: #00af00\">9</span>)         │          <span style=\"color: #00af00; text-decoration-color: #00af00\">0</span> │ -                 │\n",
       "│ (<span style=\"color: #0087ff; text-decoration-color: #0087ff\">InputLayer</span>)        │                   │            │                   │\n",
       "├─────────────────────┼───────────────────┼────────────┼───────────────────┤\n",
       "│ lambda (<span style=\"color: #0087ff; text-decoration-color: #0087ff\">Lambda</span>)     │ (<span style=\"color: #00d7ff; text-decoration-color: #00d7ff\">None</span>, <span style=\"color: #00af00; text-decoration-color: #00af00\">1</span>)         │          <span style=\"color: #00af00; text-decoration-color: #00af00\">0</span> │ input_layer[<span style=\"color: #00af00; text-decoration-color: #00af00\">0</span>][<span style=\"color: #00af00; text-decoration-color: #00af00\">0</span>] │\n",
       "├─────────────────────┼───────────────────┼────────────┼───────────────────┤\n",
       "│ lambda_1 (<span style=\"color: #0087ff; text-decoration-color: #0087ff\">Lambda</span>)   │ (<span style=\"color: #00d7ff; text-decoration-color: #00d7ff\">None</span>, <span style=\"color: #00af00; text-decoration-color: #00af00\">1</span>)         │          <span style=\"color: #00af00; text-decoration-color: #00af00\">0</span> │ input_layer[<span style=\"color: #00af00; text-decoration-color: #00af00\">0</span>][<span style=\"color: #00af00; text-decoration-color: #00af00\">0</span>] │\n",
       "├─────────────────────┼───────────────────┼────────────┼───────────────────┤\n",
       "│ embedding           │ (<span style=\"color: #00d7ff; text-decoration-color: #00d7ff\">None</span>, <span style=\"color: #00af00; text-decoration-color: #00af00\">1</span>, <span style=\"color: #00af00; text-decoration-color: #00af00\">2</span>)      │         <span style=\"color: #00af00; text-decoration-color: #00af00\">22</span> │ lambda[<span style=\"color: #00af00; text-decoration-color: #00af00\">0</span>][<span style=\"color: #00af00; text-decoration-color: #00af00\">0</span>]      │\n",
       "│ (<span style=\"color: #0087ff; text-decoration-color: #0087ff\">Embedding</span>)         │                   │            │                   │\n",
       "├─────────────────────┼───────────────────┼────────────┼───────────────────┤\n",
       "│ embedding_1         │ (<span style=\"color: #00d7ff; text-decoration-color: #00d7ff\">None</span>, <span style=\"color: #00af00; text-decoration-color: #00af00\">1</span>, <span style=\"color: #00af00; text-decoration-color: #00af00\">2</span>)      │         <span style=\"color: #00af00; text-decoration-color: #00af00\">44</span> │ lambda_1[<span style=\"color: #00af00; text-decoration-color: #00af00\">0</span>][<span style=\"color: #00af00; text-decoration-color: #00af00\">0</span>]    │\n",
       "│ (<span style=\"color: #0087ff; text-decoration-color: #0087ff\">Embedding</span>)         │                   │            │                   │\n",
       "├─────────────────────┼───────────────────┼────────────┼───────────────────┤\n",
       "│ lambda_2 (<span style=\"color: #0087ff; text-decoration-color: #0087ff\">Lambda</span>)   │ (<span style=\"color: #00d7ff; text-decoration-color: #00d7ff\">None</span>, <span style=\"color: #00af00; text-decoration-color: #00af00\">7</span>)         │          <span style=\"color: #00af00; text-decoration-color: #00af00\">0</span> │ input_layer[<span style=\"color: #00af00; text-decoration-color: #00af00\">0</span>][<span style=\"color: #00af00; text-decoration-color: #00af00\">0</span>] │\n",
       "├─────────────────────┼───────────────────┼────────────┼───────────────────┤\n",
       "│ flatten (<span style=\"color: #0087ff; text-decoration-color: #0087ff\">Flatten</span>)   │ (<span style=\"color: #00d7ff; text-decoration-color: #00d7ff\">None</span>, <span style=\"color: #00af00; text-decoration-color: #00af00\">2</span>)         │          <span style=\"color: #00af00; text-decoration-color: #00af00\">0</span> │ embedding[<span style=\"color: #00af00; text-decoration-color: #00af00\">0</span>][<span style=\"color: #00af00; text-decoration-color: #00af00\">0</span>]   │\n",
       "├─────────────────────┼───────────────────┼────────────┼───────────────────┤\n",
       "│ flatten_1 (<span style=\"color: #0087ff; text-decoration-color: #0087ff\">Flatten</span>) │ (<span style=\"color: #00d7ff; text-decoration-color: #00d7ff\">None</span>, <span style=\"color: #00af00; text-decoration-color: #00af00\">2</span>)         │          <span style=\"color: #00af00; text-decoration-color: #00af00\">0</span> │ embedding_1[<span style=\"color: #00af00; text-decoration-color: #00af00\">0</span>][<span style=\"color: #00af00; text-decoration-color: #00af00\">0</span>] │\n",
       "├─────────────────────┼───────────────────┼────────────┼───────────────────┤\n",
       "│ concatenate         │ (<span style=\"color: #00d7ff; text-decoration-color: #00d7ff\">None</span>, <span style=\"color: #00af00; text-decoration-color: #00af00\">11</span>)        │          <span style=\"color: #00af00; text-decoration-color: #00af00\">0</span> │ lambda_2[<span style=\"color: #00af00; text-decoration-color: #00af00\">0</span>][<span style=\"color: #00af00; text-decoration-color: #00af00\">0</span>],   │\n",
       "│ (<span style=\"color: #0087ff; text-decoration-color: #0087ff\">Concatenate</span>)       │                   │            │ flatten[<span style=\"color: #00af00; text-decoration-color: #00af00\">0</span>][<span style=\"color: #00af00; text-decoration-color: #00af00\">0</span>],    │\n",
       "│                     │                   │            │ flatten_1[<span style=\"color: #00af00; text-decoration-color: #00af00\">0</span>][<span style=\"color: #00af00; text-decoration-color: #00af00\">0</span>]   │\n",
       "├─────────────────────┼───────────────────┼────────────┼───────────────────┤\n",
       "│ dense (<span style=\"color: #0087ff; text-decoration-color: #0087ff\">Dense</span>)       │ (<span style=\"color: #00d7ff; text-decoration-color: #00d7ff\">None</span>, <span style=\"color: #00af00; text-decoration-color: #00af00\">20</span>)        │        <span style=\"color: #00af00; text-decoration-color: #00af00\">240</span> │ concatenate[<span style=\"color: #00af00; text-decoration-color: #00af00\">0</span>][<span style=\"color: #00af00; text-decoration-color: #00af00\">0</span>] │\n",
       "├─────────────────────┼───────────────────┼────────────┼───────────────────┤\n",
       "│ dense_1 (<span style=\"color: #0087ff; text-decoration-color: #0087ff\">Dense</span>)     │ (<span style=\"color: #00d7ff; text-decoration-color: #00d7ff\">None</span>, <span style=\"color: #00af00; text-decoration-color: #00af00\">15</span>)        │        <span style=\"color: #00af00; text-decoration-color: #00af00\">315</span> │ dense[<span style=\"color: #00af00; text-decoration-color: #00af00\">0</span>][<span style=\"color: #00af00; text-decoration-color: #00af00\">0</span>]       │\n",
       "├─────────────────────┼───────────────────┼────────────┼───────────────────┤\n",
       "│ dense_2 (<span style=\"color: #0087ff; text-decoration-color: #0087ff\">Dense</span>)     │ (<span style=\"color: #00d7ff; text-decoration-color: #00d7ff\">None</span>, <span style=\"color: #00af00; text-decoration-color: #00af00\">10</span>)        │        <span style=\"color: #00af00; text-decoration-color: #00af00\">160</span> │ dense_1[<span style=\"color: #00af00; text-decoration-color: #00af00\">0</span>][<span style=\"color: #00af00; text-decoration-color: #00af00\">0</span>]     │\n",
       "├─────────────────────┼───────────────────┼────────────┼───────────────────┤\n",
       "│ dense_3 (<span style=\"color: #0087ff; text-decoration-color: #0087ff\">Dense</span>)     │ (<span style=\"color: #00d7ff; text-decoration-color: #00d7ff\">None</span>, <span style=\"color: #00af00; text-decoration-color: #00af00\">1</span>)         │         <span style=\"color: #00af00; text-decoration-color: #00af00\">11</span> │ dense_2[<span style=\"color: #00af00; text-decoration-color: #00af00\">0</span>][<span style=\"color: #00af00; text-decoration-color: #00af00\">0</span>]     │\n",
       "├─────────────────────┼───────────────────┼────────────┼───────────────────┤\n",
       "│ input_layer_1       │ (<span style=\"color: #00d7ff; text-decoration-color: #00d7ff\">None</span>, <span style=\"color: #00af00; text-decoration-color: #00af00\">1</span>)         │          <span style=\"color: #00af00; text-decoration-color: #00af00\">0</span> │ -                 │\n",
       "│ (<span style=\"color: #0087ff; text-decoration-color: #0087ff\">InputLayer</span>)        │                   │            │                   │\n",
       "├─────────────────────┼───────────────────┼────────────┼───────────────────┤\n",
       "│ multiply (<span style=\"color: #0087ff; text-decoration-color: #0087ff\">Multiply</span>) │ (<span style=\"color: #00d7ff; text-decoration-color: #00d7ff\">None</span>, <span style=\"color: #00af00; text-decoration-color: #00af00\">1</span>)         │          <span style=\"color: #00af00; text-decoration-color: #00af00\">0</span> │ dense_3[<span style=\"color: #00af00; text-decoration-color: #00af00\">0</span>][<span style=\"color: #00af00; text-decoration-color: #00af00\">0</span>],    │\n",
       "│                     │                   │            │ input_layer_1[<span style=\"color: #00af00; text-decoration-color: #00af00\">0</span>]… │\n",
       "└─────────────────────┴───────────────────┴────────────┴───────────────────┘\n",
       "</pre>\n"
      ],
      "text/plain": [
       "┏━━━━━━━━━━━━━━━━━━━━━┳━━━━━━━━━━━━━━━━━━━┳━━━━━━━━━━━━┳━━━━━━━━━━━━━━━━━━━┓\n",
       "┃\u001b[1m \u001b[0m\u001b[1mLayer (type)       \u001b[0m\u001b[1m \u001b[0m┃\u001b[1m \u001b[0m\u001b[1mOutput Shape     \u001b[0m\u001b[1m \u001b[0m┃\u001b[1m \u001b[0m\u001b[1m   Param #\u001b[0m\u001b[1m \u001b[0m┃\u001b[1m \u001b[0m\u001b[1mConnected to     \u001b[0m\u001b[1m \u001b[0m┃\n",
       "┡━━━━━━━━━━━━━━━━━━━━━╇━━━━━━━━━━━━━━━━━━━╇━━━━━━━━━━━━╇━━━━━━━━━━━━━━━━━━━┩\n",
       "│ input_layer         │ (\u001b[38;5;45mNone\u001b[0m, \u001b[38;5;34m9\u001b[0m)         │          \u001b[38;5;34m0\u001b[0m │ -                 │\n",
       "│ (\u001b[38;5;33mInputLayer\u001b[0m)        │                   │            │                   │\n",
       "├─────────────────────┼───────────────────┼────────────┼───────────────────┤\n",
       "│ lambda (\u001b[38;5;33mLambda\u001b[0m)     │ (\u001b[38;5;45mNone\u001b[0m, \u001b[38;5;34m1\u001b[0m)         │          \u001b[38;5;34m0\u001b[0m │ input_layer[\u001b[38;5;34m0\u001b[0m][\u001b[38;5;34m0\u001b[0m] │\n",
       "├─────────────────────┼───────────────────┼────────────┼───────────────────┤\n",
       "│ lambda_1 (\u001b[38;5;33mLambda\u001b[0m)   │ (\u001b[38;5;45mNone\u001b[0m, \u001b[38;5;34m1\u001b[0m)         │          \u001b[38;5;34m0\u001b[0m │ input_layer[\u001b[38;5;34m0\u001b[0m][\u001b[38;5;34m0\u001b[0m] │\n",
       "├─────────────────────┼───────────────────┼────────────┼───────────────────┤\n",
       "│ embedding           │ (\u001b[38;5;45mNone\u001b[0m, \u001b[38;5;34m1\u001b[0m, \u001b[38;5;34m2\u001b[0m)      │         \u001b[38;5;34m22\u001b[0m │ lambda[\u001b[38;5;34m0\u001b[0m][\u001b[38;5;34m0\u001b[0m]      │\n",
       "│ (\u001b[38;5;33mEmbedding\u001b[0m)         │                   │            │                   │\n",
       "├─────────────────────┼───────────────────┼────────────┼───────────────────┤\n",
       "│ embedding_1         │ (\u001b[38;5;45mNone\u001b[0m, \u001b[38;5;34m1\u001b[0m, \u001b[38;5;34m2\u001b[0m)      │         \u001b[38;5;34m44\u001b[0m │ lambda_1[\u001b[38;5;34m0\u001b[0m][\u001b[38;5;34m0\u001b[0m]    │\n",
       "│ (\u001b[38;5;33mEmbedding\u001b[0m)         │                   │            │                   │\n",
       "├─────────────────────┼───────────────────┼────────────┼───────────────────┤\n",
       "│ lambda_2 (\u001b[38;5;33mLambda\u001b[0m)   │ (\u001b[38;5;45mNone\u001b[0m, \u001b[38;5;34m7\u001b[0m)         │          \u001b[38;5;34m0\u001b[0m │ input_layer[\u001b[38;5;34m0\u001b[0m][\u001b[38;5;34m0\u001b[0m] │\n",
       "├─────────────────────┼───────────────────┼────────────┼───────────────────┤\n",
       "│ flatten (\u001b[38;5;33mFlatten\u001b[0m)   │ (\u001b[38;5;45mNone\u001b[0m, \u001b[38;5;34m2\u001b[0m)         │          \u001b[38;5;34m0\u001b[0m │ embedding[\u001b[38;5;34m0\u001b[0m][\u001b[38;5;34m0\u001b[0m]   │\n",
       "├─────────────────────┼───────────────────┼────────────┼───────────────────┤\n",
       "│ flatten_1 (\u001b[38;5;33mFlatten\u001b[0m) │ (\u001b[38;5;45mNone\u001b[0m, \u001b[38;5;34m2\u001b[0m)         │          \u001b[38;5;34m0\u001b[0m │ embedding_1[\u001b[38;5;34m0\u001b[0m][\u001b[38;5;34m0\u001b[0m] │\n",
       "├─────────────────────┼───────────────────┼────────────┼───────────────────┤\n",
       "│ concatenate         │ (\u001b[38;5;45mNone\u001b[0m, \u001b[38;5;34m11\u001b[0m)        │          \u001b[38;5;34m0\u001b[0m │ lambda_2[\u001b[38;5;34m0\u001b[0m][\u001b[38;5;34m0\u001b[0m],   │\n",
       "│ (\u001b[38;5;33mConcatenate\u001b[0m)       │                   │            │ flatten[\u001b[38;5;34m0\u001b[0m][\u001b[38;5;34m0\u001b[0m],    │\n",
       "│                     │                   │            │ flatten_1[\u001b[38;5;34m0\u001b[0m][\u001b[38;5;34m0\u001b[0m]   │\n",
       "├─────────────────────┼───────────────────┼────────────┼───────────────────┤\n",
       "│ dense (\u001b[38;5;33mDense\u001b[0m)       │ (\u001b[38;5;45mNone\u001b[0m, \u001b[38;5;34m20\u001b[0m)        │        \u001b[38;5;34m240\u001b[0m │ concatenate[\u001b[38;5;34m0\u001b[0m][\u001b[38;5;34m0\u001b[0m] │\n",
       "├─────────────────────┼───────────────────┼────────────┼───────────────────┤\n",
       "│ dense_1 (\u001b[38;5;33mDense\u001b[0m)     │ (\u001b[38;5;45mNone\u001b[0m, \u001b[38;5;34m15\u001b[0m)        │        \u001b[38;5;34m315\u001b[0m │ dense[\u001b[38;5;34m0\u001b[0m][\u001b[38;5;34m0\u001b[0m]       │\n",
       "├─────────────────────┼───────────────────┼────────────┼───────────────────┤\n",
       "│ dense_2 (\u001b[38;5;33mDense\u001b[0m)     │ (\u001b[38;5;45mNone\u001b[0m, \u001b[38;5;34m10\u001b[0m)        │        \u001b[38;5;34m160\u001b[0m │ dense_1[\u001b[38;5;34m0\u001b[0m][\u001b[38;5;34m0\u001b[0m]     │\n",
       "├─────────────────────┼───────────────────┼────────────┼───────────────────┤\n",
       "│ dense_3 (\u001b[38;5;33mDense\u001b[0m)     │ (\u001b[38;5;45mNone\u001b[0m, \u001b[38;5;34m1\u001b[0m)         │         \u001b[38;5;34m11\u001b[0m │ dense_2[\u001b[38;5;34m0\u001b[0m][\u001b[38;5;34m0\u001b[0m]     │\n",
       "├─────────────────────┼───────────────────┼────────────┼───────────────────┤\n",
       "│ input_layer_1       │ (\u001b[38;5;45mNone\u001b[0m, \u001b[38;5;34m1\u001b[0m)         │          \u001b[38;5;34m0\u001b[0m │ -                 │\n",
       "│ (\u001b[38;5;33mInputLayer\u001b[0m)        │                   │            │                   │\n",
       "├─────────────────────┼───────────────────┼────────────┼───────────────────┤\n",
       "│ multiply (\u001b[38;5;33mMultiply\u001b[0m) │ (\u001b[38;5;45mNone\u001b[0m, \u001b[38;5;34m1\u001b[0m)         │          \u001b[38;5;34m0\u001b[0m │ dense_3[\u001b[38;5;34m0\u001b[0m][\u001b[38;5;34m0\u001b[0m],    │\n",
       "│                     │                   │            │ input_layer_1[\u001b[38;5;34m0\u001b[0m]… │\n",
       "└─────────────────────┴───────────────────┴────────────┴───────────────────┘\n"
      ]
     },
     "metadata": {},
     "output_type": "display_data"
    },
    {
     "data": {
      "text/html": [
       "<pre style=\"white-space:pre;overflow-x:auto;line-height:normal;font-family:Menlo,'DejaVu Sans Mono',consolas,'Courier New',monospace\"><span style=\"font-weight: bold\"> Total params: </span><span style=\"color: #00af00; text-decoration-color: #00af00\">792</span> (3.09 KB)\n",
       "</pre>\n"
      ],
      "text/plain": [
       "\u001b[1m Total params: \u001b[0m\u001b[38;5;34m792\u001b[0m (3.09 KB)\n"
      ]
     },
     "metadata": {},
     "output_type": "display_data"
    },
    {
     "data": {
      "text/html": [
       "<pre style=\"white-space:pre;overflow-x:auto;line-height:normal;font-family:Menlo,'DejaVu Sans Mono',consolas,'Courier New',monospace\"><span style=\"font-weight: bold\"> Trainable params: </span><span style=\"color: #00af00; text-decoration-color: #00af00\">792</span> (3.09 KB)\n",
       "</pre>\n"
      ],
      "text/plain": [
       "\u001b[1m Trainable params: \u001b[0m\u001b[38;5;34m792\u001b[0m (3.09 KB)\n"
      ]
     },
     "metadata": {},
     "output_type": "display_data"
    },
    {
     "data": {
      "text/html": [
       "<pre style=\"white-space:pre;overflow-x:auto;line-height:normal;font-family:Menlo,'DejaVu Sans Mono',consolas,'Courier New',monospace\"><span style=\"font-weight: bold\"> Non-trainable params: </span><span style=\"color: #00af00; text-decoration-color: #00af00\">0</span> (0.00 B)\n",
       "</pre>\n"
      ],
      "text/plain": [
       "\u001b[1m Non-trainable params: \u001b[0m\u001b[38;5;34m0\u001b[0m (0.00 B)\n"
      ]
     },
     "metadata": {},
     "output_type": "display_data"
    }
   ],
   "source": [
    "\n",
    "SEED = 1234\n",
    "HIDDEN = [20, 15, 10]\n",
    "M_FEAT = X_learn.shape[1]\n",
    "KK = [len(learn['VehBrand'].unique()), len(learn['Region'].unique())]\n",
    "BB  = [2,2]\n",
    "\n",
    "\n",
    "# Create model with three hidden layers\n",
    "model = create_fnn(SEED, M_FEAT, HIDDEN, KK, BB)\n",
    "model.summary()"
   ]
  },
  {
   "cell_type": "markdown",
   "metadata": {},
   "source": [
    "## Homogeneous case not considering any covariates"
   ]
  },
  {
   "cell_type": "code",
   "execution_count": 10,
   "metadata": {},
   "outputs": [
    {
     "name": "stdout",
     "output_type": "stream",
     "text": [
      "Poisson Deviance (Learn): 47.722\n",
      "Poisson Deviance (Test): 47.967\n"
     ]
    }
   ],
   "source": [
    "\n",
    "from sklearn.metrics import mean_poisson_deviance\n",
    "\n",
    "mu_hom = learn.ClaimNb.sum() / learn.Exposure.sum()  # homogeneous frequency\n",
    "w0 = model.get_weights()\n",
    "w0[-2] *= 0\n",
    "w0[-1][0] = np.log(mu_hom)\n",
    "model.set_weights(w0)\n",
    "\n",
    "\n",
    "# Helper functions to evaluate the model via total Poisson deviance\n",
    "def score(model, X, y, v):\n",
    "    \"\"\"Evaluate the model using sklearn's mean_poisson_deviance.\"\"\"\n",
    "    pred = model.predict([X, v], batch_size=int(1e6), verbose=0).flatten()\n",
    "    return 100*mean_poisson_deviance(y/v, pred/v, sample_weight=v)\n",
    "\n",
    "\n",
    "print(f\"Poisson Deviance (Learn): {score(model, X_learn, y_learn, v_learn):.3f}\")\n",
    "print(f\"Poisson Deviance (Test): {score(model, X_test, y_test, v_test):.3f}\")"
   ]
  },
  {
   "cell_type": "markdown",
   "metadata": {},
   "source": [
    "## Train the model"
   ]
  },
  {
   "cell_type": "code",
   "execution_count": 11,
   "metadata": {},
   "outputs": [
    {
     "data": {
      "image/png": "[encoded data removed]",
      "text/plain": [
       "<Figure size 640x480 with 1 Axes>"
      ]
     },
     "metadata": {},
     "output_type": "display_data"
    }
   ],
   "source": [
    "# Callback for saving model and for implicit early stopping (~after 60-70 epochs here)\n",
    "if not os.path.exists(\"./Networks\"):\n",
    "    os.makedirs(\"./Networks\")\n",
    "\n",
    "checkpoint_path = f\"./Networks/FNN2_emb_{SEED}.weights.h5\"\n",
    "checkpoint = keras.callbacks.ModelCheckpoint(\n",
    "    checkpoint_path, monitor=\"val_loss\", save_best_only=True, save_weights_only=True\n",
    ")\n",
    "\n",
    "# Compile model\n",
    "model.compile(loss=\"poisson\", optimizer=\"nadam\")\n",
    "\n",
    "# Train model\n",
    "history = model.fit(\n",
    "    [X_learn, v_learn],\n",
    "    y_learn,\n",
    "    validation_split=0.1,\n",
    "    batch_size=5000,\n",
    "    epochs=200,\n",
    "    verbose=0,\n",
    "    callbacks=[checkpoint],\n",
    ")\n",
    "\n",
    "# Plot training history (vertical line at best validation loss)\n",
    "fig = (\n",
    "    pd.DataFrame(history.history)\n",
    "    .rename(columns={\"loss\": \"Training\", \"val_loss\": \"Validation\"})\n",
    "    .plot(xlabel=\"Epoch - 1\", ylabel=\"Loss\", title=\"Loss During Training\", grid=True)\n",
    ")\n",
    "_ = fig.axvline(\n",
    "    np.argmin(model.history.history[\"val_loss\"]), color=\"black\", linestyle=\"--\"\n",
    ")\n"
   ]
  },
  {
   "cell_type": "markdown",
   "metadata": {},
   "source": [
    "## Evaluate Results"
   ]
  },
  {
   "cell_type": "code",
   "execution_count": 12,
   "metadata": {},
   "outputs": [
    {
     "name": "stdout",
     "output_type": "stream",
     "text": [
      "Poisson Deviance (Learn): 44.816\n",
      "Poisson Deviance (Test): 44.902\n",
      "Balance Property: 0.0736 0.0715\n"
     ]
    }
   ],
   "source": [
    "# Load best weights and evaluate\n",
    "model.load_weights(checkpoint_path)\n",
    "w2 = model.get_weights()\n",
    "\n",
    "print(f\"Poisson Deviance (Learn): {score(model, X_learn, y_learn, v_learn):.3f}\")\n",
    "print(f\"Poisson Deviance (Test): {score(model, X_test, y_test, v_test):.3f}\")\n",
    "\n",
    "learn_nn = model.predict([X_learn, v_learn], batch_size=int(1e6), verbose=0).flatten()\n",
    "\n",
    "print(f\"Balance Property: {mu_hom:.4f} {learn_nn.sum() / learn['Exposure'].sum():.4f}\")"
   ]
  },
  {
   "cell_type": "markdown",
   "metadata": {},
   "source": [
    "## Balance Property Adjustment"
   ]
  },
  {
   "cell_type": "code",
   "execution_count": 14,
   "metadata": {},
   "outputs": [],
   "source": [
    "# Create model that has only a trainable output layer\n",
    "model = create_fnn(SEED, M_FEAT, HIDDEN, KK, BB, freeze_hidden=True)\n",
    "model.set_weights(w2)"
   ]
  },
  {
   "cell_type": "code",
   "execution_count": 15,
   "metadata": {},
   "outputs": [
    {
     "data": {
      "image/png": "[encoded data removed]",
      "text/plain": [
       "<Figure size 640x480 with 1 Axes>"
      ]
     },
     "metadata": {},
     "output_type": "display_data"
    }
   ],
   "source": [
    "# Compile model\n",
    "model.compile(loss=\"poisson\", optimizer=keras.optimizers.Nadam(learning_rate=0.01))\n",
    "\n",
    "# Train model (note that we train a Poisson model with canonical link)\n",
    "history = model.fit(\n",
    "    [X_learn, v_learn],\n",
    "    y_learn,\n",
    "    validation_split=0,\n",
    "    batch_size=len(y_learn),\n",
    "    epochs=50,\n",
    "    verbose=0,\n",
    ")\n",
    "\n",
    "_ = pd.DataFrame(history.history).plot(\n",
    "    xlabel=\"Epoch - 1\",\n",
    "    ylabel=\"Loss\",\n",
    "    title=\"Model Loss During Training\",\n",
    "    grid=True,\n",
    "    legend=False,\n",
    "    ylim=(0, 0.2),\n",
    ")"
   ]
  },
  {
   "cell_type": "code",
   "execution_count": 17,
   "metadata": {},
   "outputs": [
    {
     "name": "stdout",
     "output_type": "stream",
     "text": [
      "Poisson Deviance (Learn): 44.807\n",
      "Poisson Deviance (Test): 44.905\n",
      "Balance Property: 0.0736 0.0736\n"
     ]
    }
   ],
   "source": [
    "print(f\"Poisson Deviance (Learn): {score(model, X_learn, y_learn, v_learn):.3f}\")\n",
    "print(f\"Poisson Deviance (Test): {score(model, X_test, y_test, v_test):.3f}\")\n",
    "\n",
    "learn_nn_reg = model.predict(\n",
    "    [X_learn, v_learn], batch_size=int(1e6), verbose=0\n",
    ").flatten()\n",
    "\n",
    "print(\n",
    "    f\"Balance Property: {mu_hom:.4f} {learn_nn_reg.sum() / learn['Exposure'].sum():.4f}\"\n",
    ")"
   ]
  },
  {
   "cell_type": "code",
   "execution_count": 18,
   "metadata": {},
   "outputs": [],
   "source": [
    "# save the model\n",
    "path2 = f'./Networks/FNN2_emb_reg_{SEED}.weights.h5'\n",
    "model.save_weights(path2)"
   ]
  },
  {
   "cell_type": "markdown",
   "metadata": {},
   "source": [
    "## Visualize Embeddings"
   ]
  },
  {
   "cell_type": "code",
   "execution_count": 19,
   "metadata": {},
   "outputs": [
    {
     "data": {
      "image/png": "[encoded data removed]",
      "text/plain": [
       "<Figure size 1000x800 with 1 Axes>"
      ]
     },
     "metadata": {},
     "output_type": "display_data"
    }
   ],
   "source": [
    "# Embeddings visualization\n",
    "import matplotlib.pyplot as plt\n",
    "w1 = model.get_weights()\n",
    "\n",
    "# Extract embeddings\n",
    "veh_br = w1[0]  \n",
    "\n",
    "# Get unique vehicle brands and their indices\n",
    "vb_names = learn.loc[~learn['VehBrand'].duplicated(), ['VehBrand']]\n",
    "vb_names = vb_names.sort_values('VehBrand')\n",
    "\n",
    "# Calculate plot limits\n",
    "lim0 = 1.1 * np.array([veh_br.min(), veh_br.max()])\n",
    "\n",
    "# Create the plot\n",
    "plt.figure(figsize=(10, 8))\n",
    "plt.scatter(veh_br[:, 0], veh_br[:, 1], alpha=0)  # invisible points to set the scale\n",
    "plt.xlim(lim0)\n",
    "plt.ylim(lim0)\n",
    "\n",
    "# Add text labels for each brand\n",
    "for i, brand in enumerate(vb_names['VehBrand']):\n",
    "    plt.annotate(brand, (veh_br[i, 0], veh_br[i, 1]), \n",
    "                color='darkgreen', fontsize=12)\n",
    "\n",
    "plt.xlabel('Embedding dim 1')\n",
    "plt.ylabel('Embedding dim 2')\n",
    "plt.title('2D Embeddings of Vehicle Brands')\n",
    "plt.grid(True)\n",
    "plt.show()"
   ]
  },
  {
   "cell_type": "code",
   "execution_count": 20,
   "metadata": {},
   "outputs": [
    {
     "data": {
      "image/png": "[encoded data removed]",
      "text/plain": [
       "<Figure size 1000x800 with 1 Axes>"
      ]
     },
     "metadata": {},
     "output_type": "display_data"
    }
   ],
   "source": [
    "# Extract embeddings for regions\n",
    "region_br = w1[1]  \n",
    "\n",
    "# Get unique regions and their indices\n",
    "region_names = learn.loc[~learn['Region'].duplicated(), ['Region']]\n",
    "region_names = region_names.sort_values('Region')\n",
    "\n",
    "# Calculate plot limits\n",
    "lim0 = 1.1 * np.array([region_br.min(), region_br.max()])\n",
    "\n",
    "# Create the plot\n",
    "plt.figure(figsize=(10, 8))\n",
    "plt.scatter(region_br[:, 0], region_br[:, 1], alpha=0)  # invisible points to set the scale\n",
    "plt.xlim(lim0)\n",
    "plt.ylim(lim0)\n",
    "\n",
    "# Add text labels for each region\n",
    "for i, region in enumerate(region_names['Region']):\n",
    "    plt.annotate(region, (region_br[i, 0], region_br[i, 1]), \n",
    "                color='blue', fontsize=12)\n",
    "\n",
    "plt.xlabel('Embedding dim 1')\n",
    "plt.ylabel('Embedding dim 2')\n",
    "plt.title('2D Embeddings of Regions')\n",
    "plt.grid(True)\n",
    "plt.show()"
   ]
  }
 ],
 "metadata": {
  "kernelspec": {
   "display_name": "Python 3 (ipykernel)",
   "language": "python",
   "name": "python3"
  },
  "language_info": {
   "codemirror_mode": {
    "name": "ipython",
    "version": 3
   },
   "file_extension": ".py",
   "mimetype": "text/x-python",
   "name": "python",
   "nbconvert_exporter": "python",
   "pygments_lexer": "ipython3",
   "version": "3.12.9"
  }
 },
 "nbformat": 4,
 "nbformat_minor": 4
}
