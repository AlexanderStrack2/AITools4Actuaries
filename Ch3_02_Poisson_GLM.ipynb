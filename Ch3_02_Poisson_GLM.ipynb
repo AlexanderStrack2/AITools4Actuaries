{
 "cells": [
  {
   "cell_type": "markdown",
   "metadata": {},
   "source": [
    "# AI Tools for Actuaries\n",
    "## Chapter 3: Poisson GLM in Python\n",
    "### Author: Mario Wuthrich\n",
    "### Version March 2025"
   ]
  },
  {
   "cell_type": "code",
   "execution_count": 8,
   "metadata": {},
   "outputs": [],
   "source": [
    "# Import required libraries\n",
    "import pandas as pd\n",
    "import numpy as np\n",
    "import pyreadr\n",
    "from statsmodels.formula.api import glm\n",
    "import statsmodels.api as sm\n",
    "import time"
   ]
  },
  {
   "cell_type": "markdown",
   "metadata": {},
   "source": [
    "### Define Poisson Deviance Loss Function\n",
    "We scale with $10^2$ for better visibility\n"
   ]
  },
  {
   "cell_type": "code",
   "execution_count": 9,
   "metadata": {},
   "outputs": [],
   "source": [
    "def poisson_deviance(pred, obs):\n",
    "    return 200 * (np.sum(pred) - np.sum(obs) + np.sum(np.log((obs/pred)**obs))) / len(pred)"
   ]
  },
  {
   "cell_type": "markdown",
   "metadata": {},
   "source": [
    "### Load Data"
   ]
  },
  {
   "cell_type": "code",
   "execution_count": 10,
   "metadata": {},
   "outputs": [
    {
     "name": "stdout",
     "output_type": "stream",
     "text": [
      "<class 'pandas.core.frame.DataFrame'>\n",
      "RangeIndex: 678007 entries, 0 to 678006\n",
      "Data columns (total 14 columns):\n",
      " #   Column      Non-Null Count   Dtype   \n",
      "---  ------      --------------   -----   \n",
      " 0   IDpol       678007 non-null  float64 \n",
      " 1   Exposure    678007 non-null  float64 \n",
      " 2   Area        678007 non-null  category\n",
      " 3   VehPower    678007 non-null  int32   \n",
      " 4   VehAge      678007 non-null  int32   \n",
      " 5   DrivAge     678007 non-null  int32   \n",
      " 6   BonusMalus  678007 non-null  int32   \n",
      " 7   VehBrand    678007 non-null  category\n",
      " 8   VehGas      678007 non-null  category\n",
      " 9   Density     678007 non-null  int32   \n",
      " 10  Region      678007 non-null  category\n",
      " 11  ClaimTotal  678007 non-null  float64 \n",
      " 12  ClaimNb     678007 non-null  float64 \n",
      " 13  LearnTest   678007 non-null  object  \n",
      "dtypes: category(4), float64(4), int32(5), object(1)\n",
      "memory usage: 41.4+ MB\n",
      "None\n"
     ]
    }
   ],
   "source": [
    "# Load the data\n",
    "dat = pyreadr.read_r('../../Data/freMTPL2freqClean.rda')  # load the data\n",
    "dat = dat[None] if None in dat else dat[list(dat.keys())[0]]\n",
    "\n",
    "# Display data structure\n",
    "print(dat.info())"
   ]
  },
  {
   "cell_type": "markdown",
   "metadata": {},
   "source": [
    "### Preprocess Data for GLM"
   ]
  },
  {
   "cell_type": "code",
   "execution_count": 11,
   "metadata": {},
   "outputs": [],
   "source": [
    "# Create GLM features\n",
    "# Make Area code continuous\n",
    "dat['AreaGLM'] = pd.Categorical(dat['Area']).codes+1\n",
    "# Make vehicle power categorical\n",
    "dat['VehPowerGLM'] = pd.Categorical(np.minimum(dat['VehPower'], 9))\n",
    "# Create age categories\n",
    "dat['VehAgeGLM'] = pd.cut(dat['VehAge'], \n",
    "                          bins=[0, 5, 12, 101],\n",
    "                          labels=['0-5', '6-12', '12+'],\n",
    "                          include_lowest=True)\n",
    "# Create age categories\n",
    "dat['DrivAgeGLM'] = pd.cut(dat['DrivAge'],\n",
    "                           bins=[18, 20, 25, 30, 40, 50, 70, 101],\n",
    "                           labels=['18-20', '21-25', '26-30', '31-40', '41-50', '51-70', '71+'],\n",
    "                           include_lowest=True)\n",
    "dat['DrivAgeGLM'] = pd.Categorical(dat['DrivAgeGLM'],\n",
    "                                   categories=['31-40'] + [x for x in dat['DrivAgeGLM'].unique() if x != '31-40'])\n",
    "# Censor bonus-malus level\n",
    "dat['BonusMalusGLM'] = np.minimum(dat['BonusMalus'], 150)\n",
    "# Consider density on log scale\n",
    "dat['DensityGLM'] = np.log(dat['Density'])\n",
    "\n",
    "\n",
    "# Keep other categorical variables as is\n",
    "dat['VehBrand'] = pd.Categorical(dat['VehBrand'])\n",
    "dat['VehGas'] = pd.Categorical(dat['VehGas'],\n",
    "                              categories=['Diesel', 'Regular'])\n",
    "dat['Region'] = pd.Categorical(dat['Region'])\n"
   ]
  },
  {
   "cell_type": "markdown",
   "metadata": {},
   "source": [
    "### Split into Learning and Test Sets"
   ]
  },
  {
   "cell_type": "code",
   "execution_count": 12,
   "metadata": {},
   "outputs": [
    {
     "name": "stdout",
     "output_type": "stream",
     "text": [
      "Learning set size: 610206\n",
      "Test set size: 67801\n"
     ]
    }
   ],
   "source": [
    "# Split data (this uses the same split and order as in Wuthrich-Merz (Springer 2023))\n",
    "learn = dat[dat['LearnTest'] == 'L'].copy()\n",
    "test = dat[dat['LearnTest'] == 'T'].copy()\n",
    "\n",
    "print(f\"Learning set size: {len(learn)}\")\n",
    "print(f\"Test set size: {len(test)}\")"
   ]
  },
  {
   "cell_type": "markdown",
   "metadata": {},
   "source": [
    "### GLM Analysis"
   ]
  },
  {
   "cell_type": "code",
   "execution_count": 13,
   "metadata": {},
   "outputs": [
    {
     "name": "stdout",
     "output_type": "stream",
     "text": [
      "Time taken: 2.18 seconds\n",
      "\n",
      "                 Generalized Linear Model Regression Results                  \n",
      "==============================================================================\n",
      "Dep. Variable:                ClaimNb   No. Observations:               610206\n",
      "Model:                            GLM   Df Residuals:                   610186\n",
      "Model Family:                 Poisson   Df Model:                           19\n",
      "Link Function:                    Log   Scale:                          1.0000\n",
      "Method:                          IRLS   Log-Likelihood:                -98513.\n",
      "Date:                Mon, 03 Mar 2025   Deviance:                   1.5138e+05\n",
      "Time:                        14:22:11   Pearson chi2:                 1.02e+06\n",
      "No. Iterations:                     7   Pseudo R-squ. (CS):           0.004052\n",
      "Covariance Type:            nonrobust                                         \n",
      "=======================================================================================\n",
      "                          coef    std err          z      P>|z|      [0.025      0.975]\n",
      "---------------------------------------------------------------------------------------\n",
      "Intercept              -3.2590      0.034    -95.561      0.000      -3.326      -3.192\n",
      "DrivAgeGLM[T.18-20]     1.2751      0.045     28.357      0.000       1.187       1.363\n",
      "DrivAgeGLM[T.26-30]     0.1540      0.026      5.990      0.000       0.104       0.204\n",
      "DrivAgeGLM[T.41-50]     0.1220      0.019      6.446      0.000       0.085       0.159\n",
      "DrivAgeGLM[T.21-25]     0.6417      0.029     22.390      0.000       0.585       0.698\n",
      "DrivAgeGLM[T.51-70]    -0.0170      0.019     -0.920      0.358      -0.053       0.019\n",
      "DrivAgeGLM[T.71+]      -0.0471      0.030     -1.573      0.116      -0.106       0.012\n",
      "VehBrand[T.B10]         0.0678      0.041      1.669      0.095      -0.012       0.147\n",
      "VehBrand[T.B11]         0.2214      0.043      5.107      0.000       0.136       0.306\n",
      "VehBrand[T.B12]        -0.1522      0.021     -7.293      0.000      -0.193      -0.111\n",
      "VehBrand[T.B13]         0.1019      0.047      2.166      0.030       0.010       0.194\n",
      "VehBrand[T.B14]        -0.2018      0.094     -2.153      0.031      -0.386      -0.018\n",
      "VehBrand[T.B2]          0.0072      0.018      0.400      0.689      -0.028       0.043\n",
      "VehBrand[T.B3]          0.0852      0.025      3.402      0.001       0.036       0.134\n",
      "VehBrand[T.B4]          0.0346      0.035      1.002      0.317      -0.033       0.102\n",
      "VehBrand[T.B5]          0.1228      0.029      4.266      0.000       0.066       0.179\n",
      "VehBrand[T.B6]          0.0803      0.032      2.484      0.013       0.017       0.144\n",
      "VehGas[T.Regular]      -0.1988      0.013    -14.919      0.000      -0.225      -0.173\n",
      "DensityGLM              0.0945      0.015      6.459      0.000       0.066       0.123\n",
      "AreaGLM                 0.0285      0.020      1.431      0.152      -0.011       0.068\n",
      "=======================================================================================\n"
     ]
    }
   ],
   "source": [
    "# Fit GLM\n",
    "start_time = time.time()\n",
    "\n",
    "model = glm(\"ClaimNb ~ DrivAgeGLM + VehBrand + VehGas + DensityGLM + AreaGLM\",\n",
    "            data=learn,\n",
    "            offset=np.log(learn['Exposure']),\n",
    "            family=sm.families.Poisson())\n",
    "\n",
    "glm_results = model.fit()\n",
    "print(f\"Time taken: {time.time() - start_time:.2f} seconds\\n\")\n",
    "\n",
    "# Display model summary\n",
    "print(glm_results.summary())"
   ]
  },
  {
   "cell_type": "markdown",
   "metadata": {},
   "source": [
    "### Calculate Deviance Losses"
   ]
  },
  {
   "cell_type": "code",
   "execution_count": 14,
   "metadata": {},
   "outputs": [
    {
     "name": "stdout",
     "output_type": "stream",
     "text": [
      "Deviance Losses:\n",
      "Learning sample: 24.807\n",
      "Test sample: 25.027\n"
     ]
    }
   ],
   "source": [
    "# Get predictions\n",
    "learn['GLM'] = glm_results.predict(learn)*learn['Exposure']\n",
    "test['GLM'] = glm_results.predict(test)*test['Exposure']\n",
    "\n",
    "# Calculate in-sample and out-of-sample deviance\n",
    "learn_deviance = poisson_deviance(learn['GLM'], learn['ClaimNb'])\n",
    "test_deviance = poisson_deviance(test['GLM'], test['ClaimNb'])\n",
    "\n",
    "print(\"Deviance Losses:\")\n",
    "print(f\"Learning sample: {learn_deviance:.3f}\")\n",
    "print(f\"Test sample: {test_deviance:.3f}\")"
   ]
  }
 ],
 "metadata": {
  "kernelspec": {
   "display_name": "my_env",
   "language": "python",
   "name": "python3"
  },
  "language_info": {
   "codemirror_mode": {
    "name": "ipython",
    "version": 3
   },
   "file_extension": ".py",
   "mimetype": "text/x-python",
   "name": "python",
   "nbconvert_exporter": "python",
   "pygments_lexer": "ipython3",
   "version": "3.10.16"
  }
 },
 "nbformat": 4,
 "nbformat_minor": 4
}
