{
 "cells": [
  {
   "cell_type": "markdown",
   "metadata": {},
   "source": [
    "# AI Tools for Actuaries\n",
    "## Chapter 5: CANN approach in Python\n",
    "### Author: Michael Mayer and Mario Wuthrich\n",
    "### Version April 2025"
   ]
  },
  {
   "cell_type": "code",
   "execution_count": 1,
   "metadata": {},
   "outputs": [],
   "source": [
    "# Import required libraries\n",
    "import pandas as pd\n",
    "import numpy as np\n",
    "from statsmodels.formula.api import glm\n",
    "import statsmodels.api as sm\n",
    "import tensorflow as tf\n",
    "from tensorflow import keras\n",
    "import matplotlib.pyplot as plt\n",
    "\n",
    "# Set random seed\n",
    "np.random.seed(500)"
   ]
  },
  {
   "cell_type": "markdown",
   "metadata": {},
   "source": [
    "### Define Poisson deviance loss function\n",
    "We scale with $10^2$ for better visibility"
   ]
  },
  {
   "cell_type": "code",
   "execution_count": 2,
   "metadata": {},
   "outputs": [],
   "source": [
    "def poisson_deviance(pred, obs):\n",
    "    \"\"\"Average Poisson deviance for claim counts.\"\"\"\n",
    "    dev_sum = 2 * (np.sum(pred) - np.sum(obs) + np.sum(np.log((obs / pred) ** obs)))\n",
    "    return 100 * dev_sum / len(pred)"
   ]
  },
  {
   "cell_type": "markdown",
   "metadata": {},
   "source": [
    "### Load data"
   ]
  },
  {
   "cell_type": "code",
   "execution_count": 3,
   "metadata": {},
   "outputs": [
    {
     "name": "stdout",
     "output_type": "stream",
     "text": [
      "<class 'pandas.core.frame.DataFrame'>\n",
      "RangeIndex: 678007 entries, 0 to 678006\n",
      "Data columns (total 14 columns):\n",
      " #   Column      Non-Null Count   Dtype   \n",
      "---  ------      --------------   -----   \n",
      " 0   IDpol       678007 non-null  float64 \n",
      " 1   Exposure    678007 non-null  float64 \n",
      " 2   Area        678007 non-null  category\n",
      " 3   VehPower    678007 non-null  int32   \n",
      " 4   VehAge      678007 non-null  int32   \n",
      " 5   DrivAge     678007 non-null  int32   \n",
      " 6   BonusMalus  678007 non-null  int32   \n",
      " 7   VehBrand    678007 non-null  category\n",
      " 8   VehGas      678007 non-null  category\n",
      " 9   Density     678007 non-null  int32   \n",
      " 10  Region      678007 non-null  category\n",
      " 11  ClaimTotal  678007 non-null  float64 \n",
      " 12  ClaimNb     678007 non-null  float64 \n",
      " 13  LearnTest   678007 non-null  object  \n",
      "dtypes: category(4), float64(4), int32(5), object(1)\n",
      "memory usage: 41.4+ MB\n",
      "None\n"
     ]
    },
    {
     "data": {
      "text/html": [
       "<div>\n",
       "<style scoped>\n",
       "    .dataframe tbody tr th:only-of-type {\n",
       "        vertical-align: middle;\n",
       "    }\n",
       "\n",
       "    .dataframe tbody tr th {\n",
       "        vertical-align: top;\n",
       "    }\n",
       "\n",
       "    .dataframe thead th {\n",
       "        text-align: right;\n",
       "    }\n",
       "</style>\n",
       "<table border=\"1\" class=\"dataframe\">\n",
       "  <thead>\n",
       "    <tr style=\"text-align: right;\">\n",
       "      <th></th>\n",
       "      <th>IDpol</th>\n",
       "      <th>Exposure</th>\n",
       "      <th>Area</th>\n",
       "      <th>VehPower</th>\n",
       "      <th>VehAge</th>\n",
       "      <th>DrivAge</th>\n",
       "      <th>BonusMalus</th>\n",
       "      <th>VehBrand</th>\n",
       "      <th>VehGas</th>\n",
       "      <th>Density</th>\n",
       "      <th>Region</th>\n",
       "      <th>ClaimTotal</th>\n",
       "      <th>ClaimNb</th>\n",
       "      <th>LearnTest</th>\n",
       "    </tr>\n",
       "  </thead>\n",
       "  <tbody>\n",
       "    <tr>\n",
       "      <th>0</th>\n",
       "      <td>4156370.0</td>\n",
       "      <td>0.06</td>\n",
       "      <td>D</td>\n",
       "      <td>6</td>\n",
       "      <td>6</td>\n",
       "      <td>20</td>\n",
       "      <td>100</td>\n",
       "      <td>B2</td>\n",
       "      <td>Regular</td>\n",
       "      <td>525</td>\n",
       "      <td>R82</td>\n",
       "      <td>0.0</td>\n",
       "      <td>0.0</td>\n",
       "      <td>L</td>\n",
       "    </tr>\n",
       "    <tr>\n",
       "      <th>1</th>\n",
       "      <td>4006798.0</td>\n",
       "      <td>0.29</td>\n",
       "      <td>E</td>\n",
       "      <td>6</td>\n",
       "      <td>7</td>\n",
       "      <td>29</td>\n",
       "      <td>59</td>\n",
       "      <td>B12</td>\n",
       "      <td>Diesel</td>\n",
       "      <td>2498</td>\n",
       "      <td>R72</td>\n",
       "      <td>0.0</td>\n",
       "      <td>0.0</td>\n",
       "      <td>L</td>\n",
       "    </tr>\n",
       "    <tr>\n",
       "      <th>2</th>\n",
       "      <td>6084964.0</td>\n",
       "      <td>0.46</td>\n",
       "      <td>C</td>\n",
       "      <td>7</td>\n",
       "      <td>10</td>\n",
       "      <td>27</td>\n",
       "      <td>68</td>\n",
       "      <td>B1</td>\n",
       "      <td>Diesel</td>\n",
       "      <td>123</td>\n",
       "      <td>R82</td>\n",
       "      <td>0.0</td>\n",
       "      <td>0.0</td>\n",
       "      <td>L</td>\n",
       "    </tr>\n",
       "    <tr>\n",
       "      <th>3</th>\n",
       "      <td>2228865.0</td>\n",
       "      <td>0.08</td>\n",
       "      <td>D</td>\n",
       "      <td>4</td>\n",
       "      <td>15</td>\n",
       "      <td>34</td>\n",
       "      <td>50</td>\n",
       "      <td>B2</td>\n",
       "      <td>Regular</td>\n",
       "      <td>1109</td>\n",
       "      <td>R24</td>\n",
       "      <td>0.0</td>\n",
       "      <td>0.0</td>\n",
       "      <td>L</td>\n",
       "    </tr>\n",
       "    <tr>\n",
       "      <th>4</th>\n",
       "      <td>4141911.0</td>\n",
       "      <td>1.00</td>\n",
       "      <td>A</td>\n",
       "      <td>5</td>\n",
       "      <td>22</td>\n",
       "      <td>44</td>\n",
       "      <td>50</td>\n",
       "      <td>B3</td>\n",
       "      <td>Diesel</td>\n",
       "      <td>34</td>\n",
       "      <td>R72</td>\n",
       "      <td>0.0</td>\n",
       "      <td>0.0</td>\n",
       "      <td>L</td>\n",
       "    </tr>\n",
       "  </tbody>\n",
       "</table>\n",
       "</div>"
      ],
      "text/plain": [
       "       IDpol  Exposure Area  VehPower  VehAge  DrivAge  BonusMalus VehBrand  \\\n",
       "0  4156370.0      0.06    D         6       6       20         100       B2   \n",
       "1  4006798.0      0.29    E         6       7       29          59      B12   \n",
       "2  6084964.0      0.46    C         7      10       27          68       B1   \n",
       "3  2228865.0      0.08    D         4      15       34          50       B2   \n",
       "4  4141911.0      1.00    A         5      22       44          50       B3   \n",
       "\n",
       "    VehGas  Density Region  ClaimTotal  ClaimNb LearnTest  \n",
       "0  Regular      525    R82         0.0      0.0         L  \n",
       "1   Diesel     2498    R72         0.0      0.0         L  \n",
       "2   Diesel      123    R82         0.0      0.0         L  \n",
       "3  Regular     1109    R24         0.0      0.0         L  \n",
       "4   Diesel       34    R72         0.0      0.0         L  "
      ]
     },
     "execution_count": 3,
     "metadata": {},
     "output_type": "execute_result"
    }
   ],
   "source": [
    "# Load the data\n",
    "df = pd.read_parquet(\"../../Data/freMTPL2freq.parquet\")\n",
    "print(df.info())\n",
    "df.head()"
   ]
  },
  {
   "cell_type": "markdown",
   "metadata": {},
   "source": [
    "### Pre-process data for GLM"
   ]
  },
  {
   "cell_type": "code",
   "execution_count": 4,
   "metadata": {},
   "outputs": [],
   "source": [
    "# Create GLM features\n",
    "driv_age_lev = [\"18-20\", \"21-25\", \"26-30\", \"31-40\", \"41-50\", \"51-70\", \"71+\"]\n",
    "driv_age_lev2 = [\"31-40\", *[lev for lev in driv_age_lev if lev != \"31-40\"]]\n",
    "\n",
    "df = df.assign(\n",
    "    AreaGLM=lambda x: x.Area.cat.codes + 1,  # Make Area code continuous\n",
    "    VehPowerGLM=lambda x: pd.Categorical(x.VehPower.clip(0, 9)),  # Make categorical\n",
    "    # Create age categories\n",
    "    VehAgeGLM=lambda x: pd.cut(\n",
    "        x.VehAge, bins=[-1, 5, 12, 101], labels=[\"0-5\", \"6-12\", \"12+\"]\n",
    "    ),\n",
    "    DrivAgeGLM=lambda x: pd.Categorical(\n",
    "        pd.cut(x.DrivAge, bins=[17, 20, 25, 30, 40, 50, 70, 101], labels=driv_age_lev),\n",
    "        categories=driv_age_lev2,\n",
    "    ),\n",
    "    BonusMalusGLM=lambda x: x.BonusMalus.clip(0, 150),  # Censor bonus-malus level\n",
    "    DensityGLM=lambda x: np.log(x.Density),  # Log-transform density\n",
    ")"
   ]
  },
  {
   "cell_type": "markdown",
   "metadata": {},
   "source": [
    "### Pre-process data for FNN - for entity embedding and standardization"
   ]
  },
  {
   "cell_type": "code",
   "execution_count": 5,
   "metadata": {},
   "outputs": [],
   "source": [
    "def preprocess_continuous(var1, dat2):\n",
    "    dat2[var1] = pd.to_numeric(dat2[var1])\n",
    "    dat2[f\"{var1}X\"] = (dat2[var1] - dat2[var1].mean()) / dat2[var1].std()\n",
    "    return dat2\n",
    "\n",
    "def features_preprocess(dat2):\n",
    "    dat2 = dat2.copy() \n",
    "    # Convert categorical variables to numeric first\n",
    "    area_mapping = {cat: i for i, cat in enumerate(dat2[\"Area\"].unique())}\n",
    "    dat2[\"Area\"] = pd.to_numeric(dat2[\"Area\"].map(area_mapping))\n",
    "    dat2 = preprocess_continuous(\"Area\", dat2)\n",
    "    dat2 = preprocess_continuous(\"VehPower\", dat2)\n",
    "    dat2[\"VehAge\"] = dat2[\"VehAge\"].clip(upper=20)\n",
    "    dat2 = preprocess_continuous(\"VehAge\", dat2)\n",
    "    dat2[\"DrivAge\"] = dat2[\"DrivAge\"].clip(upper=90)\n",
    "    dat2 = preprocess_continuous(\"DrivAge\", dat2)\n",
    "    dat2[\"BonusMalus\"] = dat2[\"BonusMalus\"].clip(upper=150)\n",
    "    dat2 = preprocess_continuous(\"BonusMalus\", dat2)\n",
    "    vb_mapping = {cat: i for i, cat in enumerate(dat2[\"VehBrand\"].unique())}\n",
    "    dat2[\"VehBrandX\"] = pd.to_numeric(dat2[\"VehBrand\"].map(vb_mapping))\n",
    "    gas_mapping = {cat: i for i, cat in enumerate(dat2[\"VehGas\"].unique())}\n",
    "    dat2[\"VehGasX\"] = pd.to_numeric(dat2[\"VehGas\"].map(gas_mapping))\n",
    "    dat2[\"Density\"] = np.log(dat2[\"Density\"]).round(2)\n",
    "    dat2 = preprocess_continuous(\"Density\", dat2)\n",
    "    reg_mapping = {cat: i for i, cat in enumerate(dat2[\"Region\"].unique())}\n",
    "    dat2[\"RegionX\"] = pd.to_numeric(dat2[\"Region\"].map(reg_mapping))\n",
    "    return dat2"
   ]
  },
  {
   "cell_type": "markdown",
   "metadata": {},
   "source": [
    "### Split into learning sample and test sample"
   ]
  },
  {
   "cell_type": "code",
   "execution_count": 6,
   "metadata": {},
   "outputs": [
    {
     "name": "stdout",
     "output_type": "stream",
     "text": [
      "Learning set size: 610206\n",
      "Test set size: 67801\n"
     ]
    }
   ],
   "source": [
    "# pre-process data\n",
    "df = features_preprocess(df)\n",
    "\n",
    "# Split data (this uses the same split and order as in Wuthrich-Merz, Springer 2023)\n",
    "learn, test = (df[df.LearnTest == subset].copy() for subset in (\"L\", \"T\"))\n",
    "\n",
    "print(f\"Learning set size: {learn.shape[0]}\")\n",
    "print(f\"Test set size: {test.shape[0]}\")"
   ]
  },
  {
   "cell_type": "markdown",
   "metadata": {},
   "source": [
    "## GLM analysis"
   ]
  },
  {
   "cell_type": "code",
   "execution_count": 7,
   "metadata": {},
   "outputs": [
    {
     "name": "stdout",
     "output_type": "stream",
     "text": [
      "                 Generalized Linear Model Regression Results                  \n",
      "==============================================================================\n",
      "Dep. Variable:                ClaimNb   No. Observations:               610206\n",
      "Model:                            GLM   Df Residuals:                   610186\n",
      "Model Family:                 Poisson   Df Model:                           19\n",
      "Link Function:                    Log   Scale:                          1.0000\n",
      "Method:                          IRLS   Log-Likelihood:                -98513.\n",
      "Date:                Tue, 15 Apr 2025   Deviance:                   1.5138e+05\n",
      "Time:                        12:55:21   Pearson chi2:                 1.02e+06\n",
      "No. Iterations:                     7   Pseudo R-squ. (CS):           0.004052\n",
      "Covariance Type:            nonrobust                                         \n",
      "=======================================================================================\n",
      "                          coef    std err          z      P>|z|      [0.025      0.975]\n",
      "---------------------------------------------------------------------------------------\n",
      "Intercept              -3.2590      0.034    -95.561      0.000      -3.326      -3.192\n",
      "DrivAgeGLM[T.18-20]     1.2751      0.045     28.357      0.000       1.187       1.363\n",
      "DrivAgeGLM[T.21-25]     0.6417      0.029     22.390      0.000       0.585       0.698\n",
      "DrivAgeGLM[T.26-30]     0.1540      0.026      5.990      0.000       0.104       0.204\n",
      "DrivAgeGLM[T.41-50]     0.1220      0.019      6.446      0.000       0.085       0.159\n",
      "DrivAgeGLM[T.51-70]    -0.0170      0.019     -0.920      0.358      -0.053       0.019\n",
      "DrivAgeGLM[T.71+]      -0.0471      0.030     -1.573      0.116      -0.106       0.012\n",
      "VehBrand[T.B2]          0.0072      0.018      0.400      0.689      -0.028       0.043\n",
      "VehBrand[T.B3]          0.0852      0.025      3.402      0.001       0.036       0.134\n",
      "VehBrand[T.B4]          0.0346      0.035      1.002      0.317      -0.033       0.102\n",
      "VehBrand[T.B5]          0.1228      0.029      4.266      0.000       0.066       0.179\n",
      "VehBrand[T.B6]          0.0803      0.032      2.484      0.013       0.017       0.144\n",
      "VehBrand[T.B10]         0.0678      0.041      1.669      0.095      -0.012       0.147\n",
      "VehBrand[T.B11]         0.2214      0.043      5.107      0.000       0.136       0.306\n",
      "VehBrand[T.B12]        -0.1522      0.021     -7.293      0.000      -0.193      -0.111\n",
      "VehBrand[T.B13]         0.1019      0.047      2.166      0.030       0.010       0.194\n",
      "VehBrand[T.B14]        -0.2018      0.094     -2.153      0.031      -0.386      -0.018\n",
      "VehGas[T.Regular]      -0.1988      0.013    -14.919      0.000      -0.225      -0.173\n",
      "DensityGLM              0.0945      0.015      6.459      0.000       0.066       0.123\n",
      "AreaGLM                 0.0285      0.020      1.431      0.152      -0.011       0.068\n",
      "=======================================================================================\n"
     ]
    }
   ],
   "source": [
    "# Fit GLM\n",
    "model = glm(\"ClaimNb ~ DrivAgeGLM + VehBrand + VehGas + DensityGLM + AreaGLM\",\n",
    "            data=learn,\n",
    "            offset=np.log(learn['Exposure']),\n",
    "            family=sm.families.Poisson())\n",
    "\n",
    "glm_results = model.fit()\n",
    "\n",
    "# Display model summary\n",
    "print(glm_results.summary())"
   ]
  },
  {
   "cell_type": "markdown",
   "metadata": {},
   "source": [
    "### Calculate deviance losses"
   ]
  },
  {
   "cell_type": "code",
   "execution_count": 8,
   "metadata": {},
   "outputs": [
    {
     "name": "stdout",
     "output_type": "stream",
     "text": [
      "Deviance Losses:\n",
      "Learning sample: 24.807\n",
      "Test sample: 25.027\n"
     ]
    }
   ],
   "source": [
    "# Get predictions\n",
    "learn['GLM'] = glm_results.predict(learn)*learn['Exposure']\n",
    "test['GLM'] = glm_results.predict(test)*test['Exposure']\n",
    "\n",
    "# Calculate in-sample and out-of-sample deviance\n",
    "# Calculate in-sample and out-of-sample deviance\n",
    "learn_deviance, test_deviance = (\n",
    "    poisson_deviance(x.GLM, x.ClaimNb) for x in (learn, test)\n",
    ")\n",
    "\n",
    "print(\"Deviance Losses:\")\n",
    "print(f\"Learning sample: {learn_deviance:.3f}\")\n",
    "print(f\"Test sample: {test_deviance:.3f}\")"
   ]
  },
  {
   "cell_type": "markdown",
   "metadata": {},
   "source": [
    "## CANN step: using the GLM predictors as offsets in the FNN"
   ]
  },
  {
   "cell_type": "markdown",
   "metadata": {},
   "source": [
    "### Define FNN of depth 3 with entity embeddings for categorical variables"
   ]
  },
  {
   "cell_type": "code",
   "execution_count": 9,
   "metadata": {},
   "outputs": [],
   "source": [
    "# define FNN with entity embedding and three hidden layers\n",
    "def create_fnn_emb(seed, q0, kk, bb, train):\n",
    "    tf.keras.backend.clear_session()\n",
    "    tf.random.set_seed(seed)\n",
    "    \n",
    "    design_input = keras.layers.Input(shape=(q0[0],), dtype='float32')\n",
    "    CANN_offset = keras.layers.Input(shape=(1,), dtype='float32')\n",
    "\n",
    "    train_hidden = train[0].lower() == 'true'\n",
    "    train_output = train[1].lower() == 'true'\n",
    "\n",
    "    # Extract brand and region features (last two columns)\n",
    "    brand_input = keras.layers.Lambda(lambda x: x[:, -2:-1])(design_input)\n",
    "    region_input = keras.layers.Lambda(lambda x: x[:, -1:])(design_input)\n",
    "    \n",
    "    # Embedding layers\n",
    "    brand_embed = keras.layers.Embedding(input_dim=kk[0], output_dim=bb[0], trainable=train_hidden)(brand_input)\n",
    "    brand_embed = keras.layers.Flatten()(brand_embed)\n",
    "    \n",
    "    region_embed = keras.layers.Embedding(input_dim=kk[1], output_dim=bb[1], trainable=train_hidden)(region_input)\n",
    "    region_embed = keras.layers.Flatten()(region_embed)\n",
    "    \n",
    "    # Continuous features (all except last two columns)\n",
    "    continuous_features = keras.layers.Lambda(lambda x: x[:, :-2])(design_input)\n",
    "    \n",
    "    x = keras.layers.Concatenate()([continuous_features, brand_embed, region_embed])\n",
    "    x = keras.layers.Dense(q0[1], activation='tanh', trainable=train_hidden)(x)\n",
    "    x = keras.layers.Dense(q0[2], activation='tanh', trainable=train_hidden)(x)\n",
    "    x = keras.layers.Dense(q0[3], activation='tanh', trainable=train_hidden)(x)\n",
    "    x = keras.layers.Dense(1, activation='exponential', trainable=train_output)(x)\n",
    "    \n",
    "    # Multiply with the CANN prior/offset\n",
    "    output = keras.layers.Multiply()([x, CANN_offset])\n",
    "    \n",
    "    model = keras.Model(inputs=[design_input, CANN_offset], outputs=output)\n",
    "    return model"
   ]
  },
  {
   "cell_type": "markdown",
   "metadata": {},
   "source": [
    "### Prepare the inputs"
   ]
  },
  {
   "cell_type": "code",
   "execution_count": 11,
   "metadata": {},
   "outputs": [],
   "source": [
    "# Prepare features\n",
    "features = ['AreaX', 'VehPowerX', 'VehAgeX', 'DrivAgeX', 'BonusMalusX',\n",
    "           'VehGasX', 'DensityX', 'VehBrandX', 'RegionX']\n",
    "\n",
    "q0 = len(features)\n",
    "\n",
    "# Prepare matrices and ensure float32 dtype\n",
    "X_learn = learn[features].astype('float32').values\n",
    "X_test = test[features].astype('float32').values\n",
    "# GLM priors for CANN\n",
    "V_learn = learn['GLM'].astype('float32').values.reshape(-1, 1)\n",
    "V_test = test['GLM'].astype('float32').values.reshape(-1, 1)\n",
    "# Response\n",
    "Y_learn = learn['ClaimNb'].astype('float32').values.reshape(-1, 1)\n",
    "Y_test = test['ClaimNb'].astype('float32').values.reshape(-1, 1)\n",
    "\n",
    "# Define network architecture\n",
    "q00 = [q0, 20, 15, 10]\n",
    "kk = [len(learn['VehBrandX'].unique()), len(learn['RegionX'].unique())]\n",
    "bb  = [2,2]\n",
    "\n",
    "seed = 100\n",
    "\n",
    "# Create model\n",
    "train = ['True', 'True']\n",
    "model = create_fnn_emb(seed, q00, kk, bb, train)\n",
    "# model.summary()\n"
   ]
  },
  {
   "cell_type": "markdown",
   "metadata": {},
   "source": [
    "### Replicate GLM results within the FNN architecture"
   ]
  },
  {
   "cell_type": "code",
   "execution_count": 12,
   "metadata": {},
   "outputs": [
    {
     "name": "stdout",
     "output_type": "stream",
     "text": [
      "\u001b[1m1/1\u001b[0m \u001b[32m━━━━━━━━━━━━━━━━━━━━\u001b[0m\u001b[37m\u001b[0m \u001b[1m0s\u001b[0m 86ms/step\n",
      "\u001b[1m1/1\u001b[0m \u001b[32m━━━━━━━━━━━━━━━━━━━━\u001b[0m\u001b[37m\u001b[0m \u001b[1m0s\u001b[0m 100ms/step\n",
      "Poisson Deviance (Train, Test): 24.807 25.027\n"
     ]
    }
   ],
   "source": [
    "\n",
    "# Initialize to the GLM results\n",
    "w0 = model.get_weights()\n",
    "w0[-2] = np.zeros_like(w0[-2])\n",
    "w0[-1] = np.zeros_like(w0[-1])\n",
    "model.set_weights(w0)\n",
    "\n",
    "test_hom = model.predict([X_test, V_test], batch_size=10**6)\n",
    "learn_hom = model.predict([X_learn, V_learn], batch_size=10**6)\n",
    "\n",
    "print(\"Poisson Deviance (Train, Test):\", \n",
    "      round(poisson_deviance(learn_hom, Y_learn), 3),\n",
    "      round(poisson_deviance(test_hom, Y_test), 3))"
   ]
  },
  {
   "cell_type": "markdown",
   "metadata": {},
   "source": [
    "### Train the CANN model"
   ]
  },
  {
   "cell_type": "code",
   "execution_count": 13,
   "metadata": {},
   "outputs": [
    {
     "data": {
      "image/png": "[encoded data removed]",
      "text/plain": [
       "<Figure size 1000x600 with 1 Axes>"
      ]
     },
     "metadata": {},
     "output_type": "display_data"
    }
   ],
   "source": [
    "# Create checkpoint callback\n",
    "import os\n",
    "if not os.path.exists('./Networks'):\n",
    "    os.makedirs('./Networks')\n",
    "\n",
    "checkpoint_path = f'./Networks/CANN_{seed}.weights.h5'\n",
    "checkpoint = keras.callbacks.ModelCheckpoint(checkpoint_path, \n",
    "                                           monitor='val_loss',\n",
    "                                           save_best_only=True,\n",
    "                                           save_weights_only=True)\n",
    "\n",
    "# Compile model\n",
    "model.compile(loss='poisson', optimizer='nadam')\n",
    "\n",
    "# Train model\n",
    "history = model.fit([X_learn, V_learn], Y_learn,\n",
    "                   validation_split=0.1,\n",
    "                   batch_size=5000,\n",
    "                   epochs=200,\n",
    "                   verbose=0,\n",
    "                   callbacks=[checkpoint])\n",
    "\n",
    "# Plot training history\n",
    "plt.figure(figsize=(10, 6))\n",
    "plt.plot(history.history['loss'], label='Training Loss')\n",
    "plt.plot(history.history['val_loss'], label='Validation Loss')\n",
    "plt.title('Model Loss During Training')\n",
    "plt.xlabel('Epoch')\n",
    "plt.ylabel('Loss')\n",
    "plt.legend(loc='upper right')\n",
    "plt.grid(True)"
   ]
  },
  {
   "cell_type": "markdown",
   "metadata": {},
   "source": [
    "### CANN results"
   ]
  },
  {
   "cell_type": "code",
   "execution_count": 14,
   "metadata": {},
   "outputs": [
    {
     "name": "stdout",
     "output_type": "stream",
     "text": [
      "\u001b[1m1/1\u001b[0m \u001b[32m━━━━━━━━━━━━━━━━━━━━\u001b[0m\u001b[37m\u001b[0m \u001b[1m0s\u001b[0m 96ms/step\n",
      "\u001b[1m1/1\u001b[0m \u001b[32m━━━━━━━━━━━━━━━━━━━━\u001b[0m\u001b[37m\u001b[0m \u001b[1m0s\u001b[0m 60ms/step\n",
      "Poisson Deviance GLM (Train, Test): 24.807 25.027\n",
      "Poisson Deviance CANN (Train, Test): 23.742 23.827\n"
     ]
    }
   ],
   "source": [
    "# Load best weights and evaluate\n",
    "model.load_weights(checkpoint_path)\n",
    "w1 = model.get_weights()\n",
    "learn_nn = model.predict([X_learn, V_learn], batch_size=10**6)\n",
    "test_nn = model.predict([X_test, V_test], batch_size=10**6)\n",
    "\n",
    "print(\"Poisson Deviance GLM (Train, Test):\",\n",
    "      round(learn_deviance, 3),\n",
    "      round(test_deviance, 3))\n",
    "\n",
    "print(\"Poisson Deviance CANN (Train, Test):\",\n",
    "      round(poisson_deviance(learn_nn, Y_learn), 3),\n",
    "      round(poisson_deviance(test_nn, Y_test), 3))\n"
   ]
  },
  {
   "cell_type": "markdown",
   "metadata": {},
   "source": [
    "### Plot the marginalized expected frequency for the Driver Age input variable"
   ]
  },
  {
   "cell_type": "code",
   "execution_count": 15,
   "metadata": {},
   "outputs": [
    {
     "name": "stdout",
     "output_type": "stream",
     "text": [
      "\u001b[1m1/1\u001b[0m \u001b[32m━━━━━━━━━━━━━━━━━━━━\u001b[0m\u001b[37m\u001b[0m \u001b[1m0s\u001b[0m 61ms/step\n",
      "\u001b[1m1/1\u001b[0m \u001b[32m━━━━━━━━━━━━━━━━━━━━\u001b[0m\u001b[37m\u001b[0m \u001b[1m0s\u001b[0m 27ms/step\n"
     ]
    },
    {
     "data": {
      "image/png": "[encoded data removed]",
      "text/plain": [
       "<Figure size 1000x600 with 1 Axes>"
      ]
     },
     "metadata": {},
     "output_type": "display_data"
    }
   ],
   "source": [
    "\n",
    "learn['CANN'] = model.predict([X_learn, V_learn], batch_size=10**6)\n",
    "test['CANN'] = model.predict([X_test, V_test], batch_size=10**6)\n",
    "\n",
    "# Create figure\n",
    "plt.figure(figsize=(10, 6))\n",
    "\n",
    "# Calculate aggregated frequencies\n",
    "aggr = learn.groupby('DrivAge').agg({\n",
    "    'GLM': 'sum',\n",
    "    'CANN': 'sum',\n",
    "    'Exposure': 'sum'\n",
    "}).reset_index()\n",
    "\n",
    "\n",
    "aggr['GLM'] = aggr['GLM'] / aggr['Exposure']\n",
    "aggr['CANN'] = aggr['CANN'] / aggr['Exposure']\n",
    "\n",
    "# Plot marginalized estimated frequencies\n",
    "plt.plot(aggr['DrivAge'], aggr['GLM'], 'blue', linewidth=2, label='GLM')\n",
    "plt.plot(aggr['DrivAge'], aggr['CANN'], 'red', linewidth=2, label='CANN')\n",
    "plt.xlabel(\"driver's age\")\n",
    "plt.ylabel('predictions')\n",
    "plt.title('marginalized estimated frequencies')\n",
    "plt.legend()\n",
    "\n",
    "plt.tight_layout()\n",
    "plt.show()"
   ]
  }
 ],
 "metadata": {
  "kernelspec": {
   "display_name": "my_env",
   "language": "python",
   "name": "python3"
  },
  "language_info": {
   "codemirror_mode": {
    "name": "ipython",
    "version": 3
   },
   "file_extension": ".py",
   "mimetype": "text/x-python",
   "name": "python",
   "nbconvert_exporter": "python",
   "pygments_lexer": "ipython3",
   "version": "3.10.16"
  }
 },
 "nbformat": 4,
 "nbformat_minor": 4
}
